{
 "cells": [
  {
   "cell_type": "markdown",
   "metadata": {
    "id": "zSYD_MaDe9Q8"
   },
   "source": [
    "## This is a notebook that use Linear Regression to predict the Cummulative Grade Point\n"
   ]
  },
  {
   "cell_type": "markdown",
   "metadata": {
    "id": "u69ym8rwHR-q"
   },
   "source": [
    "#Import modules\n"
   ]
  },
  {
   "cell_type": "code",
   "execution_count": 1,
   "metadata": {
    "executionInfo": {
     "elapsed": 1136,
     "status": "ok",
     "timestamp": 1629693645900,
     "user": {
      "displayName": "Lim Ming Yuen",
      "photoUrl": "",
      "userId": "14089031834122689521"
     },
     "user_tz": -480
    },
    "id": "GCYHsEvJJuL5"
   },
   "outputs": [],
   "source": [
    "#import libraries\n",
    "import numpy as np\n",
    "import pandas as pd\n",
    "import matplotlib.pyplot as plt\n",
    "import seaborn as sns\n",
    "from sklearn.preprocessing import LabelEncoder\n",
    "from sklearn.preprocessing import StandardScaler\n",
    "from sklearn.model_selection import train_test_split\n",
    "from sklearn.linear_model import LinearRegression"
   ]
  },
  {
   "cell_type": "markdown",
   "metadata": {
    "id": "oXNgA-MOIBUa"
   },
   "source": [
    "#Loading the dataset"
   ]
  },
  {
   "cell_type": "code",
   "execution_count": 2,
   "metadata": {
    "colab": {
     "base_uri": "https://localhost:8080/",
     "height": 72,
     "resources": {
      "http://localhost:8080/nbextensions/google.colab/files.js": {
       "data": "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",
       "headers": [
        [
         "content-type",
         "application/javascript"
        ]
       ],
       "ok": true,
       "status": 200,
       "status_text": ""
      }
     }
    },
    "executionInfo": {
     "elapsed": 20752,
     "status": "ok",
     "timestamp": 1629693670480,
     "user": {
      "displayName": "Lim Ming Yuen",
      "photoUrl": "",
      "userId": "14089031834122689521"
     },
     "user_tz": -480
    },
    "id": "S4f_1uJhJ4Tg",
    "outputId": "ba2f4d8a-50f2-493c-d51d-b3dc962dc2f8"
   },
   "outputs": [],
   "source": [
    "#Load the data\n",
    "#Load the data\n",
    "df = pd.read_excel (r'C:\\Users\\Dell\\Downloads\\Y3S2.xlsx', sheet_name='Sheet1')\n"
   ]
  },
  {
   "cell_type": "code",
   "execution_count": 3,
   "metadata": {
    "colab": {
     "base_uri": "https://localhost:8080/",
     "height": 266
    },
    "executionInfo": {
     "elapsed": 478,
     "status": "ok",
     "timestamp": 1629693675340,
     "user": {
      "displayName": "Lim Ming Yuen",
      "photoUrl": "",
      "userId": "14089031834122689521"
     },
     "user_tz": -480
    },
    "id": "NHge5RuJnd0Z",
    "outputId": "3a1e961c-da84-488f-dcba-4b7e999057af"
   },
   "outputs": [
    {
     "data": {
      "text/html": [
       "<div>\n",
       "<style scoped>\n",
       "    .dataframe tbody tr th:only-of-type {\n",
       "        vertical-align: middle;\n",
       "    }\n",
       "\n",
       "    .dataframe tbody tr th {\n",
       "        vertical-align: top;\n",
       "    }\n",
       "\n",
       "    .dataframe thead th {\n",
       "        text-align: right;\n",
       "    }\n",
       "</style>\n",
       "<table border=\"1\" class=\"dataframe\">\n",
       "  <thead>\n",
       "    <tr style=\"text-align: right;\">\n",
       "      <th></th>\n",
       "      <th>Gender</th>\n",
       "      <th>State</th>\n",
       "      <th>UAMG1043</th>\n",
       "      <th>UCCA2103</th>\n",
       "      <th>UCCD2063</th>\n",
       "      <th>UCCD2213</th>\n",
       "      <th>UCCD3243</th>\n",
       "      <th>UCCD3583</th>\n",
       "      <th>Semester1_GPA</th>\n",
       "      <th>Semester1_CGPA</th>\n",
       "      <th>Semester2_CGPA</th>\n",
       "    </tr>\n",
       "  </thead>\n",
       "  <tbody>\n",
       "    <tr>\n",
       "      <th>0</th>\n",
       "      <td>Female</td>\n",
       "      <td>Pahang</td>\n",
       "      <td>57</td>\n",
       "      <td>79</td>\n",
       "      <td>66</td>\n",
       "      <td>72</td>\n",
       "      <td>72</td>\n",
       "      <td>65</td>\n",
       "      <td>3.100000</td>\n",
       "      <td>2.920988</td>\n",
       "      <td>2.862222</td>\n",
       "    </tr>\n",
       "    <tr>\n",
       "      <th>1</th>\n",
       "      <td>Male</td>\n",
       "      <td>Kedah</td>\n",
       "      <td>63</td>\n",
       "      <td>73</td>\n",
       "      <td>61</td>\n",
       "      <td>68</td>\n",
       "      <td>60</td>\n",
       "      <td>58</td>\n",
       "      <td>2.783333</td>\n",
       "      <td>2.895062</td>\n",
       "      <td>2.948889</td>\n",
       "    </tr>\n",
       "    <tr>\n",
       "      <th>2</th>\n",
       "      <td>Male</td>\n",
       "      <td>Malacca</td>\n",
       "      <td>74</td>\n",
       "      <td>68</td>\n",
       "      <td>63</td>\n",
       "      <td>65</td>\n",
       "      <td>78</td>\n",
       "      <td>57</td>\n",
       "      <td>2.933333</td>\n",
       "      <td>2.992593</td>\n",
       "      <td>2.993333</td>\n",
       "    </tr>\n",
       "    <tr>\n",
       "      <th>3</th>\n",
       "      <td>Female</td>\n",
       "      <td>Kelantan</td>\n",
       "      <td>66</td>\n",
       "      <td>74</td>\n",
       "      <td>60</td>\n",
       "      <td>76</td>\n",
       "      <td>63</td>\n",
       "      <td>74</td>\n",
       "      <td>3.050000</td>\n",
       "      <td>2.935802</td>\n",
       "      <td>2.962222</td>\n",
       "    </tr>\n",
       "    <tr>\n",
       "      <th>4</th>\n",
       "      <td>Male</td>\n",
       "      <td>Perak</td>\n",
       "      <td>71</td>\n",
       "      <td>61</td>\n",
       "      <td>77</td>\n",
       "      <td>74</td>\n",
       "      <td>74</td>\n",
       "      <td>56</td>\n",
       "      <td>3.033333</td>\n",
       "      <td>2.893827</td>\n",
       "      <td>2.871111</td>\n",
       "    </tr>\n",
       "    <tr>\n",
       "      <th>5</th>\n",
       "      <td>Male</td>\n",
       "      <td>Johor</td>\n",
       "      <td>61</td>\n",
       "      <td>57</td>\n",
       "      <td>48</td>\n",
       "      <td>60</td>\n",
       "      <td>66</td>\n",
       "      <td>74</td>\n",
       "      <td>2.333333</td>\n",
       "      <td>2.637037</td>\n",
       "      <td>2.683333</td>\n",
       "    </tr>\n",
       "    <tr>\n",
       "      <th>6</th>\n",
       "      <td>Female</td>\n",
       "      <td>Negeri Sembilan</td>\n",
       "      <td>68</td>\n",
       "      <td>74</td>\n",
       "      <td>73</td>\n",
       "      <td>72</td>\n",
       "      <td>61</td>\n",
       "      <td>81</td>\n",
       "      <td>3.216667</td>\n",
       "      <td>2.946914</td>\n",
       "      <td>2.898889</td>\n",
       "    </tr>\n",
       "  </tbody>\n",
       "</table>\n",
       "</div>"
      ],
      "text/plain": [
       "   Gender            State  UAMG1043  UCCA2103  UCCD2063  UCCD2213  UCCD3243  \\\n",
       "0  Female           Pahang        57        79        66        72        72   \n",
       "1    Male            Kedah        63        73        61        68        60   \n",
       "2    Male          Malacca        74        68        63        65        78   \n",
       "3  Female         Kelantan        66        74        60        76        63   \n",
       "4    Male            Perak        71        61        77        74        74   \n",
       "5    Male            Johor        61        57        48        60        66   \n",
       "6  Female  Negeri Sembilan        68        74        73        72        61   \n",
       "\n",
       "   UCCD3583  Semester1_GPA  Semester1_CGPA  Semester2_CGPA  \n",
       "0        65       3.100000        2.920988        2.862222  \n",
       "1        58       2.783333        2.895062        2.948889  \n",
       "2        57       2.933333        2.992593        2.993333  \n",
       "3        74       3.050000        2.935802        2.962222  \n",
       "4        56       3.033333        2.893827        2.871111  \n",
       "5        74       2.333333        2.637037        2.683333  \n",
       "6        81       3.216667        2.946914        2.898889  "
      ]
     },
     "execution_count": 3,
     "metadata": {},
     "output_type": "execute_result"
    }
   ],
   "source": [
    "#Display the first 7 row of data\n",
    "df.head(7)"
   ]
  },
  {
   "cell_type": "code",
   "execution_count": 4,
   "metadata": {
    "colab": {
     "base_uri": "https://localhost:8080/"
    },
    "executionInfo": {
     "elapsed": 2,
     "status": "ok",
     "timestamp": 1629693675859,
     "user": {
      "displayName": "Lim Ming Yuen",
      "photoUrl": "",
      "userId": "14089031834122689521"
     },
     "user_tz": -480
    },
    "id": "l30kZtknKWuw",
    "outputId": "6de79fac-e6f4-465f-e61a-04897d0cc09f"
   },
   "outputs": [
    {
     "data": {
      "text/plain": [
       "(10000, 11)"
      ]
     },
     "execution_count": 4,
     "metadata": {},
     "output_type": "execute_result"
    }
   ],
   "source": [
    "#Count the number of rows and columns in the data set\n",
    "df.shape"
   ]
  },
  {
   "cell_type": "code",
   "execution_count": 5,
   "metadata": {
    "colab": {
     "base_uri": "https://localhost:8080/"
    },
    "executionInfo": {
     "elapsed": 3,
     "status": "ok",
     "timestamp": 1629693676646,
     "user": {
      "displayName": "Lim Ming Yuen",
      "photoUrl": "",
      "userId": "14089031834122689521"
     },
     "user_tz": -480
    },
    "id": "o8wNG6zvLLkg",
    "outputId": "46b4b6ab-9457-4f4b-d2b1-388006e67a8e"
   },
   "outputs": [
    {
     "data": {
      "text/plain": [
       "Gender            0\n",
       "State             0\n",
       "UAMG1043          0\n",
       "UCCA2103          0\n",
       "UCCD2063          0\n",
       "UCCD2213          0\n",
       "UCCD3243          0\n",
       "UCCD3583          0\n",
       "Semester1_GPA     0\n",
       "Semester1_CGPA    7\n",
       "Semester2_CGPA    7\n",
       "dtype: int64"
      ]
     },
     "execution_count": 5,
     "metadata": {},
     "output_type": "execute_result"
    }
   ],
   "source": [
    "#Find the column that consist null value\n",
    "df.isna().sum()"
   ]
  },
  {
   "cell_type": "code",
   "execution_count": 6,
   "metadata": {
    "executionInfo": {
     "elapsed": 2,
     "status": "ok",
     "timestamp": 1629693677018,
     "user": {
      "displayName": "Lim Ming Yuen",
      "photoUrl": "",
      "userId": "14089031834122689521"
     },
     "user_tz": -480
    },
    "id": "ogfQMWCkWMmk"
   },
   "outputs": [],
   "source": [
    "#Remove the row that consist of null value\n",
    "df1=df.dropna()"
   ]
  },
  {
   "cell_type": "code",
   "execution_count": 7,
   "metadata": {
    "colab": {
     "base_uri": "https://localhost:8080/"
    },
    "executionInfo": {
     "elapsed": 1,
     "status": "ok",
     "timestamp": 1629693677346,
     "user": {
      "displayName": "Lim Ming Yuen",
      "photoUrl": "",
      "userId": "14089031834122689521"
     },
     "user_tz": -480
    },
    "id": "WiogvslYWjjM",
    "outputId": "e3a2b42b-0102-4520-da5d-c9a05293eb62"
   },
   "outputs": [
    {
     "data": {
      "text/plain": [
       "Gender            0\n",
       "State             0\n",
       "UAMG1043          0\n",
       "UCCA2103          0\n",
       "UCCD2063          0\n",
       "UCCD2213          0\n",
       "UCCD3243          0\n",
       "UCCD3583          0\n",
       "Semester1_GPA     0\n",
       "Semester1_CGPA    0\n",
       "Semester2_CGPA    0\n",
       "dtype: int64"
      ]
     },
     "execution_count": 7,
     "metadata": {},
     "output_type": "execute_result"
    }
   ],
   "source": [
    "#Check the if there still any null value\n",
    "df1.isna().sum()"
   ]
  },
  {
   "cell_type": "code",
   "execution_count": 8,
   "metadata": {
    "colab": {
     "base_uri": "https://localhost:8080/",
     "height": 297
    },
    "executionInfo": {
     "elapsed": 3,
     "status": "ok",
     "timestamp": 1629693678098,
     "user": {
      "displayName": "Lim Ming Yuen",
      "photoUrl": "",
      "userId": "14089031834122689521"
     },
     "user_tz": -480
    },
    "id": "Y5rlAROMLXmH",
    "outputId": "403da223-e32b-4a2b-b5b2-8f25c50fa170"
   },
   "outputs": [
    {
     "data": {
      "text/html": [
       "<div>\n",
       "<style scoped>\n",
       "    .dataframe tbody tr th:only-of-type {\n",
       "        vertical-align: middle;\n",
       "    }\n",
       "\n",
       "    .dataframe tbody tr th {\n",
       "        vertical-align: top;\n",
       "    }\n",
       "\n",
       "    .dataframe thead th {\n",
       "        text-align: right;\n",
       "    }\n",
       "</style>\n",
       "<table border=\"1\" class=\"dataframe\">\n",
       "  <thead>\n",
       "    <tr style=\"text-align: right;\">\n",
       "      <th></th>\n",
       "      <th>UAMG1043</th>\n",
       "      <th>UCCA2103</th>\n",
       "      <th>UCCD2063</th>\n",
       "      <th>UCCD2213</th>\n",
       "      <th>UCCD3243</th>\n",
       "      <th>UCCD3583</th>\n",
       "      <th>Semester1_GPA</th>\n",
       "      <th>Semester1_CGPA</th>\n",
       "      <th>Semester2_CGPA</th>\n",
       "    </tr>\n",
       "  </thead>\n",
       "  <tbody>\n",
       "    <tr>\n",
       "      <th>count</th>\n",
       "      <td>9993.000000</td>\n",
       "      <td>9993.000000</td>\n",
       "      <td>9993.000000</td>\n",
       "      <td>9993.000000</td>\n",
       "      <td>9993.000000</td>\n",
       "      <td>9993.000000</td>\n",
       "      <td>9993.000000</td>\n",
       "      <td>9993.000000</td>\n",
       "      <td>9993.000000</td>\n",
       "    </tr>\n",
       "    <tr>\n",
       "      <th>mean</th>\n",
       "      <td>66.023416</td>\n",
       "      <td>65.983288</td>\n",
       "      <td>66.053738</td>\n",
       "      <td>65.924947</td>\n",
       "      <td>65.950165</td>\n",
       "      <td>66.132293</td>\n",
       "      <td>2.846337</td>\n",
       "      <td>2.872690</td>\n",
       "      <td>2.869392</td>\n",
       "    </tr>\n",
       "    <tr>\n",
       "      <th>std</th>\n",
       "      <td>8.529716</td>\n",
       "      <td>8.417238</td>\n",
       "      <td>8.448486</td>\n",
       "      <td>8.382003</td>\n",
       "      <td>8.460093</td>\n",
       "      <td>8.396423</td>\n",
       "      <td>0.244052</td>\n",
       "      <td>0.107267</td>\n",
       "      <td>0.102527</td>\n",
       "    </tr>\n",
       "    <tr>\n",
       "      <th>min</th>\n",
       "      <td>42.000000</td>\n",
       "      <td>42.000000</td>\n",
       "      <td>42.000000</td>\n",
       "      <td>42.000000</td>\n",
       "      <td>43.000000</td>\n",
       "      <td>42.000000</td>\n",
       "      <td>1.383333</td>\n",
       "      <td>2.359259</td>\n",
       "      <td>2.420430</td>\n",
       "    </tr>\n",
       "    <tr>\n",
       "      <th>25%</th>\n",
       "      <td>60.000000</td>\n",
       "      <td>60.000000</td>\n",
       "      <td>60.000000</td>\n",
       "      <td>60.000000</td>\n",
       "      <td>60.000000</td>\n",
       "      <td>60.000000</td>\n",
       "      <td>2.716667</td>\n",
       "      <td>2.802469</td>\n",
       "      <td>2.803333</td>\n",
       "    </tr>\n",
       "    <tr>\n",
       "      <th>50%</th>\n",
       "      <td>66.000000</td>\n",
       "      <td>66.000000</td>\n",
       "      <td>66.000000</td>\n",
       "      <td>66.000000</td>\n",
       "      <td>66.000000</td>\n",
       "      <td>66.000000</td>\n",
       "      <td>2.883333</td>\n",
       "      <td>2.875309</td>\n",
       "      <td>2.872222</td>\n",
       "    </tr>\n",
       "    <tr>\n",
       "      <th>75%</th>\n",
       "      <td>72.000000</td>\n",
       "      <td>72.000000</td>\n",
       "      <td>72.000000</td>\n",
       "      <td>72.000000</td>\n",
       "      <td>72.000000</td>\n",
       "      <td>73.000000</td>\n",
       "      <td>3.000000</td>\n",
       "      <td>2.946914</td>\n",
       "      <td>2.938889</td>\n",
       "    </tr>\n",
       "    <tr>\n",
       "      <th>max</th>\n",
       "      <td>89.000000</td>\n",
       "      <td>90.000000</td>\n",
       "      <td>90.000000</td>\n",
       "      <td>90.000000</td>\n",
       "      <td>89.000000</td>\n",
       "      <td>90.000000</td>\n",
       "      <td>3.500000</td>\n",
       "      <td>3.233333</td>\n",
       "      <td>3.235556</td>\n",
       "    </tr>\n",
       "  </tbody>\n",
       "</table>\n",
       "</div>"
      ],
      "text/plain": [
       "          UAMG1043     UCCA2103     UCCD2063     UCCD2213     UCCD3243  \\\n",
       "count  9993.000000  9993.000000  9993.000000  9993.000000  9993.000000   \n",
       "mean     66.023416    65.983288    66.053738    65.924947    65.950165   \n",
       "std       8.529716     8.417238     8.448486     8.382003     8.460093   \n",
       "min      42.000000    42.000000    42.000000    42.000000    43.000000   \n",
       "25%      60.000000    60.000000    60.000000    60.000000    60.000000   \n",
       "50%      66.000000    66.000000    66.000000    66.000000    66.000000   \n",
       "75%      72.000000    72.000000    72.000000    72.000000    72.000000   \n",
       "max      89.000000    90.000000    90.000000    90.000000    89.000000   \n",
       "\n",
       "          UCCD3583  Semester1_GPA  Semester1_CGPA  Semester2_CGPA  \n",
       "count  9993.000000    9993.000000     9993.000000     9993.000000  \n",
       "mean     66.132293       2.846337        2.872690        2.869392  \n",
       "std       8.396423       0.244052        0.107267        0.102527  \n",
       "min      42.000000       1.383333        2.359259        2.420430  \n",
       "25%      60.000000       2.716667        2.802469        2.803333  \n",
       "50%      66.000000       2.883333        2.875309        2.872222  \n",
       "75%      73.000000       3.000000        2.946914        2.938889  \n",
       "max      90.000000       3.500000        3.233333        3.235556  "
      ]
     },
     "execution_count": 8,
     "metadata": {},
     "output_type": "execute_result"
    }
   ],
   "source": [
    "df1.describe()"
   ]
  },
  {
   "cell_type": "code",
   "execution_count": 9,
   "metadata": {
    "colab": {
     "base_uri": "https://localhost:8080/"
    },
    "executionInfo": {
     "elapsed": 2,
     "status": "ok",
     "timestamp": 1629693678925,
     "user": {
      "displayName": "Lim Ming Yuen",
      "photoUrl": "",
      "userId": "14089031834122689521"
     },
     "user_tz": -480
    },
    "id": "7nOIPzb8LdS_",
    "outputId": "78d1cb7c-5981-4127-f27e-d14a1de9a048"
   },
   "outputs": [
    {
     "data": {
      "text/plain": [
       "Gender             object\n",
       "State              object\n",
       "UAMG1043            int64\n",
       "UCCA2103            int64\n",
       "UCCD2063            int64\n",
       "UCCD2213            int64\n",
       "UCCD3243            int64\n",
       "UCCD3583            int64\n",
       "Semester1_GPA     float64\n",
       "Semester1_CGPA    float64\n",
       "Semester2_CGPA    float64\n",
       "dtype: object"
      ]
     },
     "execution_count": 9,
     "metadata": {},
     "output_type": "execute_result"
    }
   ],
   "source": [
    "df1.dtypes"
   ]
  },
  {
   "cell_type": "markdown",
   "metadata": {
    "id": "OVy39IZ4K3yI"
   },
   "source": [
    "#Exploratory Data Analysis"
   ]
  },
  {
   "cell_type": "code",
   "execution_count": 10,
   "metadata": {
    "colab": {
     "base_uri": "https://localhost:8080/",
     "height": 530
    },
    "executionInfo": {
     "elapsed": 834,
     "status": "ok",
     "timestamp": 1629693692051,
     "user": {
      "displayName": "Lim Ming Yuen",
      "photoUrl": "",
      "userId": "14089031834122689521"
     },
     "user_tz": -480
    },
    "id": "RHZmrjc7LAYg",
    "outputId": "4e7c25b1-7d5c-40d2-b337-66dd85289dbe"
   },
   "outputs": [
    {
     "data": {
      "text/plain": [
       "[Text(0.5, 1.0, 'Year 3 Semester 2 CGPA')]"
      ]
     },
     "execution_count": 10,
     "metadata": {},
     "output_type": "execute_result"
    },
    {
     "data": {
      "image/png": "[encoded data removed]",
      "text/plain": [
       "<Figure size 1080x576 with 1 Axes>"
      ]
     },
     "metadata": {
      "needs_background": "light"
     },
     "output_type": "display_data"
    }
   ],
   "source": [
    "plt.figure(figsize=(15,8))\n",
    "sns.boxplot(x='State', y='Semester2_CGPA',data=df1).set(title='Year 3 Semester 2 CGPA')"
   ]
  },
  {
   "cell_type": "code",
   "execution_count": 11,
   "metadata": {
    "executionInfo": {
     "elapsed": 5,
     "status": "ok",
     "timestamp": 1629693692052,
     "user": {
      "displayName": "Lim Ming Yuen",
      "photoUrl": "",
      "userId": "14089031834122689521"
     },
     "user_tz": -480
    },
    "id": "9nntMCClT7Ye"
   },
   "outputs": [],
   "source": [
    "gen =df1[df1['Semester2_CGPA'].between(2.8,3.3)]"
   ]
  },
  {
   "cell_type": "code",
   "execution_count": 12,
   "metadata": {
    "colab": {
     "base_uri": "https://localhost:8080/"
    },
    "executionInfo": {
     "elapsed": 5,
     "status": "ok",
     "timestamp": 1629693692052,
     "user": {
      "displayName": "Lim Ming Yuen",
      "photoUrl": "",
      "userId": "14089031834122689521"
     },
     "user_tz": -480
    },
    "id": "WoDHKwt3XDh8",
    "outputId": "14d1353e-c703-43ff-e3fa-1514d2399c6b"
   },
   "outputs": [
    {
     "data": {
      "text/plain": [
       "Johor              620\n",
       "Negeri Sembilan    614\n",
       "Malacca            609\n",
       "Terengganu         602\n",
       "Perlis             598\n",
       "Selangor           596\n",
       "Kelantan           594\n",
       "Sarawak            587\n",
       "Kedah              573\n",
       "Pahang             571\n",
       "Perak              562\n",
       "Sabah              555\n",
       "Penang             531\n",
       "Name: State, dtype: int64"
      ]
     },
     "execution_count": 12,
     "metadata": {},
     "output_type": "execute_result"
    }
   ],
   "source": [
    "#Get a count of the number of each state\n",
    "gen['State'].value_counts()"
   ]
  },
  {
   "cell_type": "code",
   "execution_count": 13,
   "metadata": {
    "colab": {
     "base_uri": "https://localhost:8080/",
     "height": 568
    },
    "executionInfo": {
     "elapsed": 810,
     "status": "ok",
     "timestamp": 1629693692859,
     "user": {
      "displayName": "Lim Ming Yuen",
      "photoUrl": "",
      "userId": "14089031834122689521"
     },
     "user_tz": -480
    },
    "id": "UieLdLPAYbYz",
    "outputId": "2e9dd054-bc05-4e6c-a048-1bb500c2339e"
   },
   "outputs": [
    {
     "data": {
      "text/plain": [
       "<matplotlib.axes._subplots.AxesSubplot at 0x213625a73c8>"
      ]
     },
     "execution_count": 13,
     "metadata": {},
     "output_type": "execute_result"
    },
    {
     "data": {
      "image/png": "[encoded data removed]",
      "text/plain": [
       "<Figure size 1080x576 with 1 Axes>"
      ]
     },
     "metadata": {
      "needs_background": "light"
     },
     "output_type": "display_data"
    }
   ],
   "source": [
    "#Visualize the count of Grade\n",
    "plt.figure(figsize=(15,8))\n",
    "sns.countplot(gen['State'], label='count')"
   ]
  },
  {
   "cell_type": "code",
   "execution_count": 14,
   "metadata": {
    "colab": {
     "base_uri": "https://localhost:8080/"
    },
    "executionInfo": {
     "elapsed": 18,
     "status": "ok",
     "timestamp": 1629693692861,
     "user": {
      "displayName": "Lim Ming Yuen",
      "photoUrl": "",
      "userId": "14089031834122689521"
     },
     "user_tz": -480
    },
    "id": "gNKv01xMY0SK",
    "outputId": "2311b036-0a15-49b7-f833-5826eb5f15fe"
   },
   "outputs": [
    {
     "data": {
      "text/plain": [
       "Female    3825\n",
       "Male      3787\n",
       "Name: Gender, dtype: int64"
      ]
     },
     "execution_count": 14,
     "metadata": {},
     "output_type": "execute_result"
    }
   ],
   "source": [
    "#Get a count of the number of each Gender\n",
    "gen['Gender'].value_counts()\n"
   ]
  },
  {
   "cell_type": "code",
   "execution_count": 15,
   "metadata": {
    "colab": {
     "base_uri": "https://localhost:8080/",
     "height": 353
    },
    "executionInfo": {
     "elapsed": 17,
     "status": "ok",
     "timestamp": 1629693692861,
     "user": {
      "displayName": "Lim Ming Yuen",
      "photoUrl": "",
      "userId": "14089031834122689521"
     },
     "user_tz": -480
    },
    "id": "kUztauDZY0cp",
    "outputId": "914b880d-789c-4f13-925a-fd3338ced4c5"
   },
   "outputs": [
    {
     "data": {
      "text/plain": [
       "<matplotlib.axes._subplots.AxesSubplot at 0x213634ad408>"
      ]
     },
     "execution_count": 15,
     "metadata": {},
     "output_type": "execute_result"
    },
    {
     "data": {
      "image/png": "[encoded data removed]",
      "text/plain": [
       "<Figure size 432x288 with 1 Axes>"
      ]
     },
     "metadata": {
      "needs_background": "light"
     },
     "output_type": "display_data"
    }
   ],
   "source": [
    "#Visualize the count of Gender\n",
    "sns.countplot(gen['Gender'], label='count')"
   ]
  },
  {
   "cell_type": "markdown",
   "metadata": {
    "id": "WcrqHq4ObHwZ"
   },
   "source": [
    "#Drop the column that does not related"
   ]
  },
  {
   "cell_type": "code",
   "execution_count": 16,
   "metadata": {
    "colab": {
     "base_uri": "https://localhost:8080/"
    },
    "executionInfo": {
     "elapsed": 15,
     "status": "ok",
     "timestamp": 1629693692861,
     "user": {
      "displayName": "Lim Ming Yuen",
      "photoUrl": "",
      "userId": "14089031834122689521"
     },
     "user_tz": -480
    },
    "id": "L9PGvP4xi3fH",
    "outputId": "46b22c9e-579a-40be-8c8a-5454a9e886d5"
   },
   "outputs": [
    {
     "name": "stderr",
     "output_type": "stream",
     "text": [
      "C:\\Users\\Dell\\anaconda3\\lib\\site-packages\\pandas\\core\\frame.py:3997: SettingWithCopyWarning: \n",
      "A value is trying to be set on a copy of a slice from a DataFrame\n",
      "\n",
      "See the caveats in the documentation: https://pandas.pydata.org/pandas-docs/stable/user_guide/indexing.html#returning-a-view-versus-a-copy\n",
      "  errors=errors,\n"
     ]
    }
   ],
   "source": [
    "df1.drop(['Gender','State'], axis='columns', inplace=True)"
   ]
  },
  {
   "cell_type": "code",
   "execution_count": 17,
   "metadata": {
    "colab": {
     "base_uri": "https://localhost:8080/"
    },
    "executionInfo": {
     "elapsed": 13,
     "status": "ok",
     "timestamp": 1629693692861,
     "user": {
      "displayName": "Lim Ming Yuen",
      "photoUrl": "",
      "userId": "14089031834122689521"
     },
     "user_tz": -480
    },
    "id": "_MAtF_wujcw2",
    "outputId": "1d9fa180-f0d3-4fb4-a10d-fe433da50944"
   },
   "outputs": [
    {
     "data": {
      "text/plain": [
       "(9993, 9)"
      ]
     },
     "execution_count": 17,
     "metadata": {},
     "output_type": "execute_result"
    }
   ],
   "source": [
    "df1.shape"
   ]
  },
  {
   "cell_type": "code",
   "execution_count": 18,
   "metadata": {
    "colab": {
     "base_uri": "https://localhost:8080/",
     "height": 204
    },
    "executionInfo": {
     "elapsed": 13,
     "status": "ok",
     "timestamp": 1629693692862,
     "user": {
      "displayName": "Lim Ming Yuen",
      "photoUrl": "",
      "userId": "14089031834122689521"
     },
     "user_tz": -480
    },
    "id": "Fw7Rr4xujhge",
    "outputId": "43ad2c0f-4808-46ca-d4c3-7464f1a889fc"
   },
   "outputs": [
    {
     "data": {
      "text/html": [
       "<div>\n",
       "<style scoped>\n",
       "    .dataframe tbody tr th:only-of-type {\n",
       "        vertical-align: middle;\n",
       "    }\n",
       "\n",
       "    .dataframe tbody tr th {\n",
       "        vertical-align: top;\n",
       "    }\n",
       "\n",
       "    .dataframe thead th {\n",
       "        text-align: right;\n",
       "    }\n",
       "</style>\n",
       "<table border=\"1\" class=\"dataframe\">\n",
       "  <thead>\n",
       "    <tr style=\"text-align: right;\">\n",
       "      <th></th>\n",
       "      <th>UAMG1043</th>\n",
       "      <th>UCCA2103</th>\n",
       "      <th>UCCD2063</th>\n",
       "      <th>UCCD2213</th>\n",
       "      <th>UCCD3243</th>\n",
       "      <th>UCCD3583</th>\n",
       "      <th>Semester1_GPA</th>\n",
       "      <th>Semester1_CGPA</th>\n",
       "      <th>Semester2_CGPA</th>\n",
       "    </tr>\n",
       "  </thead>\n",
       "  <tbody>\n",
       "    <tr>\n",
       "      <th>0</th>\n",
       "      <td>57</td>\n",
       "      <td>79</td>\n",
       "      <td>66</td>\n",
       "      <td>72</td>\n",
       "      <td>72</td>\n",
       "      <td>65</td>\n",
       "      <td>3.100000</td>\n",
       "      <td>2.920988</td>\n",
       "      <td>2.862222</td>\n",
       "    </tr>\n",
       "    <tr>\n",
       "      <th>1</th>\n",
       "      <td>63</td>\n",
       "      <td>73</td>\n",
       "      <td>61</td>\n",
       "      <td>68</td>\n",
       "      <td>60</td>\n",
       "      <td>58</td>\n",
       "      <td>2.783333</td>\n",
       "      <td>2.895062</td>\n",
       "      <td>2.948889</td>\n",
       "    </tr>\n",
       "    <tr>\n",
       "      <th>2</th>\n",
       "      <td>74</td>\n",
       "      <td>68</td>\n",
       "      <td>63</td>\n",
       "      <td>65</td>\n",
       "      <td>78</td>\n",
       "      <td>57</td>\n",
       "      <td>2.933333</td>\n",
       "      <td>2.992593</td>\n",
       "      <td>2.993333</td>\n",
       "    </tr>\n",
       "    <tr>\n",
       "      <th>3</th>\n",
       "      <td>66</td>\n",
       "      <td>74</td>\n",
       "      <td>60</td>\n",
       "      <td>76</td>\n",
       "      <td>63</td>\n",
       "      <td>74</td>\n",
       "      <td>3.050000</td>\n",
       "      <td>2.935802</td>\n",
       "      <td>2.962222</td>\n",
       "    </tr>\n",
       "    <tr>\n",
       "      <th>4</th>\n",
       "      <td>71</td>\n",
       "      <td>61</td>\n",
       "      <td>77</td>\n",
       "      <td>74</td>\n",
       "      <td>74</td>\n",
       "      <td>56</td>\n",
       "      <td>3.033333</td>\n",
       "      <td>2.893827</td>\n",
       "      <td>2.871111</td>\n",
       "    </tr>\n",
       "  </tbody>\n",
       "</table>\n",
       "</div>"
      ],
      "text/plain": [
       "   UAMG1043  UCCA2103  UCCD2063  UCCD2213  UCCD3243  UCCD3583  Semester1_GPA  \\\n",
       "0        57        79        66        72        72        65       3.100000   \n",
       "1        63        73        61        68        60        58       2.783333   \n",
       "2        74        68        63        65        78        57       2.933333   \n",
       "3        66        74        60        76        63        74       3.050000   \n",
       "4        71        61        77        74        74        56       3.033333   \n",
       "\n",
       "   Semester1_CGPA  Semester2_CGPA  \n",
       "0        2.920988        2.862222  \n",
       "1        2.895062        2.948889  \n",
       "2        2.992593        2.993333  \n",
       "3        2.935802        2.962222  \n",
       "4        2.893827        2.871111  "
      ]
     },
     "execution_count": 18,
     "metadata": {},
     "output_type": "execute_result"
    }
   ],
   "source": [
    "#Print the data after dropping the columns\n",
    "df1.head()"
   ]
  },
  {
   "cell_type": "markdown",
   "metadata": {
    "id": "4qguOdmrZYPS"
   },
   "source": [
    "#Splitting the data"
   ]
  },
  {
   "cell_type": "code",
   "execution_count": 19,
   "metadata": {
    "executionInfo": {
     "elapsed": 13,
     "status": "ok",
     "timestamp": 1629693692862,
     "user": {
      "displayName": "Lim Ming Yuen",
      "photoUrl": "",
      "userId": "14089031834122689521"
     },
     "user_tz": -480
    },
    "id": "-uvnRB_-LoPf"
   },
   "outputs": [],
   "source": [
    "#Split the data set into independent(X) and dependent(Y) data sets\n",
    "y = df1.iloc[:,-1:]\n",
    "X = df1.iloc[:,:-1]"
   ]
  },
  {
   "cell_type": "code",
   "execution_count": 20,
   "metadata": {
    "executionInfo": {
     "elapsed": 12,
     "status": "ok",
     "timestamp": 1629693692862,
     "user": {
      "displayName": "Lim Ming Yuen",
      "photoUrl": "",
      "userId": "14089031834122689521"
     },
     "user_tz": -480
    },
    "id": "HqZ8YRCSUeJc"
   },
   "outputs": [],
   "source": [
    "#Split the data set into 70% training and 30% testing\n",
    "X_train, X_test, y_train, y_test = train_test_split(X, y, train_size=0.7)"
   ]
  },
  {
   "cell_type": "markdown",
   "metadata": {
    "id": "em_XJ16hZr-i"
   },
   "source": [
    "#Feature Scaling"
   ]
  },
  {
   "cell_type": "code",
   "execution_count": 21,
   "metadata": {
    "executionInfo": {
     "elapsed": 13,
     "status": "ok",
     "timestamp": 1629693692863,
     "user": {
      "displayName": "Lim Ming Yuen",
      "photoUrl": "",
      "userId": "14089031834122689521"
     },
     "user_tz": -480
    },
    "id": "WZ5C82sPUaER"
   },
   "outputs": [],
   "source": [
    "scaler = StandardScaler()\n",
    "\n",
    "X = pd.DataFrame(scaler.fit_transform(X), columns=X.columns)"
   ]
  },
  {
   "cell_type": "markdown",
   "metadata": {
    "id": "IvnWIR-McZJP"
   },
   "source": [
    "#Model Training"
   ]
  },
  {
   "cell_type": "code",
   "execution_count": 22,
   "metadata": {
    "colab": {
     "base_uri": "https://localhost:8080/"
    },
    "executionInfo": {
     "elapsed": 13,
     "status": "ok",
     "timestamp": 1629693692863,
     "user": {
      "displayName": "Lim Ming Yuen",
      "photoUrl": "",
      "userId": "14089031834122689521"
     },
     "user_tz": -480
    },
    "id": "k7WzHG5nUg1k",
    "outputId": "e0b25ef4-c21e-424d-b05b-4a3c2bd44fe5"
   },
   "outputs": [
    {
     "data": {
      "text/plain": [
       "LinearRegression(copy_X=True, fit_intercept=True, n_jobs=None, normalize=False)"
      ]
     },
     "execution_count": 22,
     "metadata": {},
     "output_type": "execute_result"
    }
   ],
   "source": [
    "model = LinearRegression()\n",
    "model.fit(X_train, y_train)"
   ]
  },
  {
   "cell_type": "code",
   "execution_count": 23,
   "metadata": {
    "colab": {
     "base_uri": "https://localhost:8080/"
    },
    "executionInfo": {
     "elapsed": 12,
     "status": "ok",
     "timestamp": 1629693692863,
     "user": {
      "displayName": "Lim Ming Yuen",
      "photoUrl": "",
      "userId": "14089031834122689521"
     },
     "user_tz": -480
    },
    "id": "WyGK3qYDUieM",
    "outputId": "663bd297-a392-452b-fd96-e361b2118f8c"
   },
   "outputs": [
    {
     "name": "stdout",
     "output_type": "stream",
     "text": [
      "Accuracy: 88.95632652530429\n"
     ]
    }
   ],
   "source": [
    "print(\"Accuracy:\" ,model.score(X_test, y_test)*100)"
   ]
  },
  {
   "cell_type": "code",
   "execution_count": 24,
   "metadata": {
    "colab": {
     "base_uri": "https://localhost:8080/"
    },
    "executionInfo": {
     "elapsed": 11,
     "status": "ok",
     "timestamp": 1629693692863,
     "user": {
      "displayName": "Lim Ming Yuen",
      "photoUrl": "",
      "userId": "14089031834122689521"
     },
     "user_tz": -480
    },
    "id": "5ZNWIweGXACo",
    "outputId": "e072482c-c8ca-4c15-f2c8-44ab3d38b372"
   },
   "outputs": [
    {
     "name": "stdout",
     "output_type": "stream",
     "text": [
      "[[2.77627019]\n",
      " [2.82135593]\n",
      " [2.78001986]\n",
      " ...\n",
      " [2.9144988 ]\n",
      " [2.91657119]\n",
      " [2.51036691]]\n",
      "      Semester2_CGPA\n",
      "5505        2.811111\n",
      "9110        2.771111\n",
      "1389        2.773333\n",
      "9328        2.731111\n",
      "3459        2.797778\n",
      "...              ...\n",
      "2864        2.884444\n",
      "3893        2.818889\n",
      "638         2.925556\n",
      "5183        2.920000\n",
      "1571        2.515556\n",
      "\n",
      "[2998 rows x 1 columns]\n"
     ]
    }
   ],
   "source": [
    "prediction = model.predict(X_test)\n",
    "print(prediction)\n",
    "print(y_test)"
   ]
  },
  {
   "cell_type": "code",
   "execution_count": 25,
   "metadata": {
    "executionInfo": {
     "elapsed": 11,
     "status": "ok",
     "timestamp": 1629693692864,
     "user": {
      "displayName": "Lim Ming Yuen",
      "photoUrl": "",
      "userId": "14089031834122689521"
     },
     "user_tz": -480
    },
    "id": "60J_trImoTOk"
   },
   "outputs": [],
   "source": [
    "import pickle \n",
    "pickle_out = open(\"Y3S2.pkl\", mode = \"wb\") \n",
    "pickle.dump(model, pickle_out) \n",
    "pickle_out.close()"
   ]
  },
  {
   "cell_type": "code",
   "execution_count": 25,
   "metadata": {
    "executionInfo": {
     "elapsed": 10,
     "status": "ok",
     "timestamp": 1629693692864,
     "user": {
      "displayName": "Lim Ming Yuen",
      "photoUrl": "",
      "userId": "14089031834122689521"
     },
     "user_tz": -480
    },
    "id": "YuOjcqECc2y_"
   },
   "outputs": [],
   "source": []
  }
 ],
 "metadata": {
  "colab": {
   "authorship_tag": "ABX9TyPvLLAeqgwKOlQ9/6V1fsaq",
   "collapsed_sections": [],
   "name": " CGPA_Prediction_Of_Y3S2.ipynb",
   "provenance": []
  },
  "kernelspec": {
   "display_name": "Python 3",
   "language": "python",
   "name": "python3"
  },
  "language_info": {
   "codemirror_mode": {
    "name": "ipython",
    "version": 3
   },
   "file_extension": ".py",
   "mimetype": "text/x-python",
   "name": "python",
   "nbconvert_exporter": "python",
   "pygments_lexer": "ipython3",
   "version": "3.7.6"
  }
 },
 "nbformat": 4,
 "nbformat_minor": 1
}
