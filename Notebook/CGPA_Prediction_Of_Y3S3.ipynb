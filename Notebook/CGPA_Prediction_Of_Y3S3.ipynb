{
 "cells": [
  {
   "cell_type": "markdown",
   "metadata": {
    "id": "zSYD_MaDe9Q8"
   },
   "source": [
    "## This is a notebook that use Linear Regression to predict the Cummulative Grade Point\n"
   ]
  },
  {
   "cell_type": "markdown",
   "metadata": {
    "id": "u69ym8rwHR-q"
   },
   "source": [
    "#Import modules\n"
   ]
  },
  {
   "cell_type": "code",
   "execution_count": 1,
   "metadata": {
    "executionInfo": {
     "elapsed": 1258,
     "status": "ok",
     "timestamp": 1629693822590,
     "user": {
      "displayName": "Lim Ming Yuen",
      "photoUrl": "",
      "userId": "14089031834122689521"
     },
     "user_tz": -480
    },
    "id": "GCYHsEvJJuL5"
   },
   "outputs": [],
   "source": [
    "#import libraries\n",
    "import numpy as np\n",
    "import pandas as pd\n",
    "import matplotlib.pyplot as plt\n",
    "import seaborn as sns\n",
    "from sklearn.preprocessing import LabelEncoder\n",
    "from sklearn.preprocessing import StandardScaler\n",
    "from sklearn.model_selection import train_test_split\n",
    "from sklearn.linear_model import LinearRegression"
   ]
  },
  {
   "cell_type": "markdown",
   "metadata": {
    "id": "oXNgA-MOIBUa"
   },
   "source": [
    "#Loading the dataset"
   ]
  },
  {
   "cell_type": "code",
   "execution_count": 2,
   "metadata": {
    "colab": {
     "base_uri": "https://localhost:8080/",
     "height": 72,
     "resources": {
      "http://localhost:8080/nbextensions/google.colab/files.js": {
       "data": "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",
       "headers": [
        [
         "content-type",
         "application/javascript"
        ]
       ],
       "ok": true,
       "status": 200,
       "status_text": ""
      }
     }
    },
    "executionInfo": {
     "elapsed": 15953,
     "status": "ok",
     "timestamp": 1629693838540,
     "user": {
      "displayName": "Lim Ming Yuen",
      "photoUrl": "",
      "userId": "14089031834122689521"
     },
     "user_tz": -480
    },
    "id": "S4f_1uJhJ4Tg",
    "outputId": "a846f2a1-b287-45ae-82dc-b735ec0e81bf"
   },
   "outputs": [],
   "source": [
    "#Load the data\n",
    "df = pd.read_excel (r'C:\\Users\\Dell\\Downloads\\Y3S3.xlsx', sheet_name='Sheet1')\n"
   ]
  },
  {
   "cell_type": "code",
   "execution_count": 3,
   "metadata": {
    "colab": {
     "base_uri": "https://localhost:8080/",
     "height": 266
    },
    "executionInfo": {
     "elapsed": 17,
     "status": "ok",
     "timestamp": 1629693838541,
     "user": {
      "displayName": "Lim Ming Yuen",
      "photoUrl": "",
      "userId": "14089031834122689521"
     },
     "user_tz": -480
    },
    "id": "NHge5RuJnd0Z",
    "outputId": "bfbbb209-4b56-48f4-f538-48d8ed86166b"
   },
   "outputs": [
    {
     "data": {
      "text/html": [
       "<div>\n",
       "<style scoped>\n",
       "    .dataframe tbody tr th:only-of-type {\n",
       "        vertical-align: middle;\n",
       "    }\n",
       "\n",
       "    .dataframe tbody tr th {\n",
       "        vertical-align: top;\n",
       "    }\n",
       "\n",
       "    .dataframe thead th {\n",
       "        text-align: right;\n",
       "    }\n",
       "</style>\n",
       "<table border=\"1\" class=\"dataframe\">\n",
       "  <thead>\n",
       "    <tr style=\"text-align: right;\">\n",
       "      <th></th>\n",
       "      <th>Gender</th>\n",
       "      <th>State</th>\n",
       "      <th>UBTM1013</th>\n",
       "      <th>UCCD1113</th>\n",
       "      <th>UCCD3033</th>\n",
       "      <th>Semester2_GPA</th>\n",
       "      <th>Semester2_CGPA</th>\n",
       "      <th>Semester3_CGPA</th>\n",
       "    </tr>\n",
       "  </thead>\n",
       "  <tbody>\n",
       "    <tr>\n",
       "      <th>0</th>\n",
       "      <td>Female</td>\n",
       "      <td>Pahang</td>\n",
       "      <td>71</td>\n",
       "      <td>79</td>\n",
       "      <td>49</td>\n",
       "      <td>2.333333</td>\n",
       "      <td>2.862222</td>\n",
       "      <td>2.880189</td>\n",
       "    </tr>\n",
       "    <tr>\n",
       "      <th>1</th>\n",
       "      <td>Male</td>\n",
       "      <td>Kedah</td>\n",
       "      <td>73</td>\n",
       "      <td>84</td>\n",
       "      <td>74</td>\n",
       "      <td>3.433333</td>\n",
       "      <td>2.948889</td>\n",
       "      <td>2.996226</td>\n",
       "    </tr>\n",
       "    <tr>\n",
       "      <th>2</th>\n",
       "      <td>Male</td>\n",
       "      <td>Malacca</td>\n",
       "      <td>54</td>\n",
       "      <td>70</td>\n",
       "      <td>81</td>\n",
       "      <td>3.000000</td>\n",
       "      <td>2.993333</td>\n",
       "      <td>2.960377</td>\n",
       "    </tr>\n",
       "    <tr>\n",
       "      <th>3</th>\n",
       "      <td>Female</td>\n",
       "      <td>Kelantan</td>\n",
       "      <td>75</td>\n",
       "      <td>68</td>\n",
       "      <td>72</td>\n",
       "      <td>3.200000</td>\n",
       "      <td>2.962222</td>\n",
       "      <td>2.990566</td>\n",
       "    </tr>\n",
       "    <tr>\n",
       "      <th>4</th>\n",
       "      <td>Male</td>\n",
       "      <td>Perak</td>\n",
       "      <td>68</td>\n",
       "      <td>67</td>\n",
       "      <td>52</td>\n",
       "      <td>2.666667</td>\n",
       "      <td>2.871111</td>\n",
       "      <td>2.882075</td>\n",
       "    </tr>\n",
       "    <tr>\n",
       "      <th>5</th>\n",
       "      <td>Male</td>\n",
       "      <td>Johor</td>\n",
       "      <td>72</td>\n",
       "      <td>64</td>\n",
       "      <td>76</td>\n",
       "      <td>3.100000</td>\n",
       "      <td>2.683333</td>\n",
       "      <td>2.776415</td>\n",
       "    </tr>\n",
       "    <tr>\n",
       "      <th>6</th>\n",
       "      <td>Female</td>\n",
       "      <td>Negeri Sembilan</td>\n",
       "      <td>61</td>\n",
       "      <td>52</td>\n",
       "      <td>64</td>\n",
       "      <td>2.466667</td>\n",
       "      <td>2.898889</td>\n",
       "      <td>2.953774</td>\n",
       "    </tr>\n",
       "  </tbody>\n",
       "</table>\n",
       "</div>"
      ],
      "text/plain": [
       "   Gender            State  UBTM1013  UCCD1113  UCCD3033  Semester2_GPA  \\\n",
       "0  Female           Pahang        71        79        49       2.333333   \n",
       "1    Male            Kedah        73        84        74       3.433333   \n",
       "2    Male          Malacca        54        70        81       3.000000   \n",
       "3  Female         Kelantan        75        68        72       3.200000   \n",
       "4    Male            Perak        68        67        52       2.666667   \n",
       "5    Male            Johor        72        64        76       3.100000   \n",
       "6  Female  Negeri Sembilan        61        52        64       2.466667   \n",
       "\n",
       "   Semester2_CGPA  Semester3_CGPA  \n",
       "0        2.862222        2.880189  \n",
       "1        2.948889        2.996226  \n",
       "2        2.993333        2.960377  \n",
       "3        2.962222        2.990566  \n",
       "4        2.871111        2.882075  \n",
       "5        2.683333        2.776415  \n",
       "6        2.898889        2.953774  "
      ]
     },
     "execution_count": 3,
     "metadata": {},
     "output_type": "execute_result"
    }
   ],
   "source": [
    "#Display the first 7 row of data\n",
    "df.head(7)"
   ]
  },
  {
   "cell_type": "code",
   "execution_count": 4,
   "metadata": {
    "colab": {
     "base_uri": "https://localhost:8080/"
    },
    "executionInfo": {
     "elapsed": 11,
     "status": "ok",
     "timestamp": 1629693838541,
     "user": {
      "displayName": "Lim Ming Yuen",
      "photoUrl": "",
      "userId": "14089031834122689521"
     },
     "user_tz": -480
    },
    "id": "l30kZtknKWuw",
    "outputId": "69484e47-eb0e-4037-cb8c-a858249865b0"
   },
   "outputs": [
    {
     "data": {
      "text/plain": [
       "(10000, 8)"
      ]
     },
     "execution_count": 4,
     "metadata": {},
     "output_type": "execute_result"
    }
   ],
   "source": [
    "#Count the number of rows and columns in the data set\n",
    "df.shape"
   ]
  },
  {
   "cell_type": "code",
   "execution_count": 5,
   "metadata": {
    "colab": {
     "base_uri": "https://localhost:8080/"
    },
    "executionInfo": {
     "elapsed": 9,
     "status": "ok",
     "timestamp": 1629693838542,
     "user": {
      "displayName": "Lim Ming Yuen",
      "photoUrl": "",
      "userId": "14089031834122689521"
     },
     "user_tz": -480
    },
    "id": "o8wNG6zvLLkg",
    "outputId": "1cc8e37f-0b87-4e80-f3e6-af0066feaa12"
   },
   "outputs": [
    {
     "data": {
      "text/plain": [
       "Gender            0\n",
       "State             0\n",
       "UBTM1013          0\n",
       "UCCD1113          0\n",
       "UCCD3033          0\n",
       "Semester2_GPA     0\n",
       "Semester2_CGPA    7\n",
       "Semester3_CGPA    7\n",
       "dtype: int64"
      ]
     },
     "execution_count": 5,
     "metadata": {},
     "output_type": "execute_result"
    }
   ],
   "source": [
    "#Find the column that consist null value\n",
    "df.isna().sum()"
   ]
  },
  {
   "cell_type": "code",
   "execution_count": 6,
   "metadata": {
    "executionInfo": {
     "elapsed": 8,
     "status": "ok",
     "timestamp": 1629693838542,
     "user": {
      "displayName": "Lim Ming Yuen",
      "photoUrl": "",
      "userId": "14089031834122689521"
     },
     "user_tz": -480
    },
    "id": "ogfQMWCkWMmk"
   },
   "outputs": [],
   "source": [
    "#Remove the row that consist of null value\n",
    "df1=df.dropna()"
   ]
  },
  {
   "cell_type": "code",
   "execution_count": 7,
   "metadata": {
    "colab": {
     "base_uri": "https://localhost:8080/"
    },
    "executionInfo": {
     "elapsed": 8,
     "status": "ok",
     "timestamp": 1629693838542,
     "user": {
      "displayName": "Lim Ming Yuen",
      "photoUrl": "",
      "userId": "14089031834122689521"
     },
     "user_tz": -480
    },
    "id": "WiogvslYWjjM",
    "outputId": "5777dc0b-8f52-4193-a810-e9ebb6ecef6f"
   },
   "outputs": [
    {
     "data": {
      "text/plain": [
       "Gender            0\n",
       "State             0\n",
       "UBTM1013          0\n",
       "UCCD1113          0\n",
       "UCCD3033          0\n",
       "Semester2_GPA     0\n",
       "Semester2_CGPA    0\n",
       "Semester3_CGPA    0\n",
       "dtype: int64"
      ]
     },
     "execution_count": 7,
     "metadata": {},
     "output_type": "execute_result"
    }
   ],
   "source": [
    "#Check the if there still any null value\n",
    "df1.isna().sum()"
   ]
  },
  {
   "cell_type": "code",
   "execution_count": 8,
   "metadata": {
    "colab": {
     "base_uri": "https://localhost:8080/",
     "height": 297
    },
    "executionInfo": {
     "elapsed": 630,
     "status": "ok",
     "timestamp": 1629693839166,
     "user": {
      "displayName": "Lim Ming Yuen",
      "photoUrl": "",
      "userId": "14089031834122689521"
     },
     "user_tz": -480
    },
    "id": "Y5rlAROMLXmH",
    "outputId": "b66d8477-2b5b-4b2e-c6a9-ed56cb6a77c5"
   },
   "outputs": [
    {
     "data": {
      "text/html": [
       "<div>\n",
       "<style scoped>\n",
       "    .dataframe tbody tr th:only-of-type {\n",
       "        vertical-align: middle;\n",
       "    }\n",
       "\n",
       "    .dataframe tbody tr th {\n",
       "        vertical-align: top;\n",
       "    }\n",
       "\n",
       "    .dataframe thead th {\n",
       "        text-align: right;\n",
       "    }\n",
       "</style>\n",
       "<table border=\"1\" class=\"dataframe\">\n",
       "  <thead>\n",
       "    <tr style=\"text-align: right;\">\n",
       "      <th></th>\n",
       "      <th>UBTM1013</th>\n",
       "      <th>UCCD1113</th>\n",
       "      <th>UCCD3033</th>\n",
       "      <th>Semester2_GPA</th>\n",
       "      <th>Semester2_CGPA</th>\n",
       "      <th>Semester3_CGPA</th>\n",
       "    </tr>\n",
       "  </thead>\n",
       "  <tbody>\n",
       "    <tr>\n",
       "      <th>count</th>\n",
       "      <td>9993.000000</td>\n",
       "      <td>9993.000000</td>\n",
       "      <td>9993.000000</td>\n",
       "      <td>9993.000000</td>\n",
       "      <td>9993.000000</td>\n",
       "      <td>9993.000000</td>\n",
       "    </tr>\n",
       "    <tr>\n",
       "      <th>mean</th>\n",
       "      <td>55.951866</td>\n",
       "      <td>65.888422</td>\n",
       "      <td>65.942360</td>\n",
       "      <td>2.839188</td>\n",
       "      <td>2.869392</td>\n",
       "      <td>2.881424</td>\n",
       "    </tr>\n",
       "    <tr>\n",
       "      <th>std</th>\n",
       "      <td>17.126267</td>\n",
       "      <td>8.405711</td>\n",
       "      <td>8.372405</td>\n",
       "      <td>0.347447</td>\n",
       "      <td>0.102527</td>\n",
       "      <td>0.091224</td>\n",
       "    </tr>\n",
       "    <tr>\n",
       "      <th>min</th>\n",
       "      <td>21.000000</td>\n",
       "      <td>41.000000</td>\n",
       "      <td>43.000000</td>\n",
       "      <td>0.666667</td>\n",
       "      <td>2.420430</td>\n",
       "      <td>2.524528</td>\n",
       "    </tr>\n",
       "    <tr>\n",
       "      <th>25%</th>\n",
       "      <td>41.000000</td>\n",
       "      <td>60.000000</td>\n",
       "      <td>60.000000</td>\n",
       "      <td>2.666667</td>\n",
       "      <td>2.803333</td>\n",
       "      <td>2.819811</td>\n",
       "    </tr>\n",
       "    <tr>\n",
       "      <th>50%</th>\n",
       "      <td>60.000000</td>\n",
       "      <td>66.000000</td>\n",
       "      <td>66.000000</td>\n",
       "      <td>2.866667</td>\n",
       "      <td>2.872222</td>\n",
       "      <td>2.882075</td>\n",
       "    </tr>\n",
       "    <tr>\n",
       "      <th>75%</th>\n",
       "      <td>69.000000</td>\n",
       "      <td>72.000000</td>\n",
       "      <td>72.000000</td>\n",
       "      <td>3.100000</td>\n",
       "      <td>2.938889</td>\n",
       "      <td>2.944340</td>\n",
       "    </tr>\n",
       "    <tr>\n",
       "      <th>max</th>\n",
       "      <td>90.000000</td>\n",
       "      <td>89.000000</td>\n",
       "      <td>89.000000</td>\n",
       "      <td>3.700000</td>\n",
       "      <td>3.235556</td>\n",
       "      <td>3.234906</td>\n",
       "    </tr>\n",
       "  </tbody>\n",
       "</table>\n",
       "</div>"
      ],
      "text/plain": [
       "          UBTM1013     UCCD1113     UCCD3033  Semester2_GPA  Semester2_CGPA  \\\n",
       "count  9993.000000  9993.000000  9993.000000    9993.000000     9993.000000   \n",
       "mean     55.951866    65.888422    65.942360       2.839188        2.869392   \n",
       "std      17.126267     8.405711     8.372405       0.347447        0.102527   \n",
       "min      21.000000    41.000000    43.000000       0.666667        2.420430   \n",
       "25%      41.000000    60.000000    60.000000       2.666667        2.803333   \n",
       "50%      60.000000    66.000000    66.000000       2.866667        2.872222   \n",
       "75%      69.000000    72.000000    72.000000       3.100000        2.938889   \n",
       "max      90.000000    89.000000    89.000000       3.700000        3.235556   \n",
       "\n",
       "       Semester3_CGPA  \n",
       "count     9993.000000  \n",
       "mean         2.881424  \n",
       "std          0.091224  \n",
       "min          2.524528  \n",
       "25%          2.819811  \n",
       "50%          2.882075  \n",
       "75%          2.944340  \n",
       "max          3.234906  "
      ]
     },
     "execution_count": 8,
     "metadata": {},
     "output_type": "execute_result"
    }
   ],
   "source": [
    "df1.describe()"
   ]
  },
  {
   "cell_type": "code",
   "execution_count": 9,
   "metadata": {
    "colab": {
     "base_uri": "https://localhost:8080/"
    },
    "executionInfo": {
     "elapsed": 10,
     "status": "ok",
     "timestamp": 1629693839166,
     "user": {
      "displayName": "Lim Ming Yuen",
      "photoUrl": "",
      "userId": "14089031834122689521"
     },
     "user_tz": -480
    },
    "id": "7nOIPzb8LdS_",
    "outputId": "886a8080-12dc-4662-8833-3cb52aad05bd"
   },
   "outputs": [
    {
     "data": {
      "text/plain": [
       "Gender             object\n",
       "State              object\n",
       "UBTM1013            int64\n",
       "UCCD1113            int64\n",
       "UCCD3033            int64\n",
       "Semester2_GPA     float64\n",
       "Semester2_CGPA    float64\n",
       "Semester3_CGPA    float64\n",
       "dtype: object"
      ]
     },
     "execution_count": 9,
     "metadata": {},
     "output_type": "execute_result"
    }
   ],
   "source": [
    "df1.dtypes"
   ]
  },
  {
   "cell_type": "markdown",
   "metadata": {
    "id": "OVy39IZ4K3yI"
   },
   "source": [
    "#Exploratory Data Analysis"
   ]
  },
  {
   "cell_type": "code",
   "execution_count": 10,
   "metadata": {
    "colab": {
     "base_uri": "https://localhost:8080/",
     "height": 530
    },
    "executionInfo": {
     "elapsed": 9,
     "status": "ok",
     "timestamp": 1629693839167,
     "user": {
      "displayName": "Lim Ming Yuen",
      "photoUrl": "",
      "userId": "14089031834122689521"
     },
     "user_tz": -480
    },
    "id": "RHZmrjc7LAYg",
    "outputId": "d6c95de2-0b59-4e7e-c0bd-8befb5ae33a7"
   },
   "outputs": [
    {
     "data": {
      "text/plain": [
       "[Text(0.5, 1.0, 'Year 3 Semester 3 CGPA')]"
      ]
     },
     "execution_count": 10,
     "metadata": {},
     "output_type": "execute_result"
    },
    {
     "data": {
      "image/png": "[encoded data removed]",
      "text/plain": [
       "<Figure size 1080x576 with 1 Axes>"
      ]
     },
     "metadata": {
      "needs_background": "light"
     },
     "output_type": "display_data"
    }
   ],
   "source": [
    "plt.figure(figsize=(15,8))\n",
    "sns.boxplot(x='State', y='Semester3_CGPA',data=df1).set(title='Year 3 Semester 3 CGPA')"
   ]
  },
  {
   "cell_type": "code",
   "execution_count": 11,
   "metadata": {
    "executionInfo": {
     "elapsed": 8,
     "status": "ok",
     "timestamp": 1629693839168,
     "user": {
      "displayName": "Lim Ming Yuen",
      "photoUrl": "",
      "userId": "14089031834122689521"
     },
     "user_tz": -480
    },
    "id": "9nntMCClT7Ye"
   },
   "outputs": [],
   "source": [
    "gen =df1[df1['Semester3_CGPA'].between(2.8,3.3)]"
   ]
  },
  {
   "cell_type": "code",
   "execution_count": 12,
   "metadata": {
    "colab": {
     "base_uri": "https://localhost:8080/"
    },
    "executionInfo": {
     "elapsed": 8,
     "status": "ok",
     "timestamp": 1629693839168,
     "user": {
      "displayName": "Lim Ming Yuen",
      "photoUrl": "",
      "userId": "14089031834122689521"
     },
     "user_tz": -480
    },
    "id": "WoDHKwt3XDh8",
    "outputId": "c6776404-54c1-4605-b5ae-86676204e452"
   },
   "outputs": [
    {
     "data": {
      "text/plain": [
       "Johor              651\n",
       "Negeri Sembilan    651\n",
       "Terengganu         646\n",
       "Malacca            646\n",
       "Perlis             641\n",
       "Kelantan           632\n",
       "Sarawak            627\n",
       "Kedah              623\n",
       "Selangor           616\n",
       "Perak              605\n",
       "Pahang             599\n",
       "Sabah              593\n",
       "Penang             578\n",
       "Name: State, dtype: int64"
      ]
     },
     "execution_count": 12,
     "metadata": {},
     "output_type": "execute_result"
    }
   ],
   "source": [
    "#Get a count of the number of each state\n",
    "gen['State'].value_counts()"
   ]
  },
  {
   "cell_type": "code",
   "execution_count": 13,
   "metadata": {
    "colab": {
     "base_uri": "https://localhost:8080/",
     "height": 568
    },
    "executionInfo": {
     "elapsed": 374,
     "status": "ok",
     "timestamp": 1629693839536,
     "user": {
      "displayName": "Lim Ming Yuen",
      "photoUrl": "",
      "userId": "14089031834122689521"
     },
     "user_tz": -480
    },
    "id": "UieLdLPAYbYz",
    "outputId": "9762cbc1-2281-40a2-881e-e0778504e434"
   },
   "outputs": [
    {
     "data": {
      "text/plain": [
       "<matplotlib.axes._subplots.AxesSubplot at 0x1b3e3242c88>"
      ]
     },
     "execution_count": 13,
     "metadata": {},
     "output_type": "execute_result"
    },
    {
     "data": {
      "image/png": "[encoded data removed]",
      "text/plain": [
       "<Figure size 1080x576 with 1 Axes>"
      ]
     },
     "metadata": {
      "needs_background": "light"
     },
     "output_type": "display_data"
    }
   ],
   "source": [
    "#Visualize the count of Grade\n",
    "plt.figure(figsize=(15,8))\n",
    "sns.countplot(gen['State'], label='count')"
   ]
  },
  {
   "cell_type": "code",
   "execution_count": 14,
   "metadata": {
    "colab": {
     "base_uri": "https://localhost:8080/"
    },
    "executionInfo": {
     "elapsed": 6,
     "status": "ok",
     "timestamp": 1629693839537,
     "user": {
      "displayName": "Lim Ming Yuen",
      "photoUrl": "",
      "userId": "14089031834122689521"
     },
     "user_tz": -480
    },
    "id": "gNKv01xMY0SK",
    "outputId": "18b434c4-6935-4238-bef6-28619b1f4f39"
   },
   "outputs": [
    {
     "data": {
      "text/plain": [
       "Male      4062\n",
       "Female    4046\n",
       "Name: Gender, dtype: int64"
      ]
     },
     "execution_count": 14,
     "metadata": {},
     "output_type": "execute_result"
    }
   ],
   "source": [
    "#Get a count of the number of each Gender\n",
    "gen['Gender'].value_counts()\n"
   ]
  },
  {
   "cell_type": "code",
   "execution_count": 15,
   "metadata": {
    "colab": {
     "base_uri": "https://localhost:8080/",
     "height": 350
    },
    "executionInfo": {
     "elapsed": 397,
     "status": "ok",
     "timestamp": 1629693839930,
     "user": {
      "displayName": "Lim Ming Yuen",
      "photoUrl": "",
      "userId": "14089031834122689521"
     },
     "user_tz": -480
    },
    "id": "kUztauDZY0cp",
    "outputId": "d2dc14a2-5fc8-42f7-9004-484c8445c16e"
   },
   "outputs": [
    {
     "data": {
      "text/plain": [
       "<matplotlib.axes._subplots.AxesSubplot at 0x1b3e3143588>"
      ]
     },
     "execution_count": 15,
     "metadata": {},
     "output_type": "execute_result"
    },
    {
     "data": {
      "image/png": "[encoded data removed]",
      "text/plain": [
       "<Figure size 432x288 with 1 Axes>"
      ]
     },
     "metadata": {
      "needs_background": "light"
     },
     "output_type": "display_data"
    }
   ],
   "source": [
    "#Visualize the count of Gender\n",
    "sns.countplot(gen['Gender'], label='count')"
   ]
  },
  {
   "cell_type": "markdown",
   "metadata": {
    "id": "WcrqHq4ObHwZ"
   },
   "source": [
    "#Drop the column that does not related"
   ]
  },
  {
   "cell_type": "code",
   "execution_count": 16,
   "metadata": {
    "colab": {
     "base_uri": "https://localhost:8080/"
    },
    "executionInfo": {
     "elapsed": 16,
     "status": "ok",
     "timestamp": 1629693839931,
     "user": {
      "displayName": "Lim Ming Yuen",
      "photoUrl": "",
      "userId": "14089031834122689521"
     },
     "user_tz": -480
    },
    "id": "L9PGvP4xi3fH",
    "outputId": "cdb32ed2-cd8a-43e4-a2ed-8ca28b0b7a8a"
   },
   "outputs": [
    {
     "name": "stderr",
     "output_type": "stream",
     "text": [
      "C:\\Users\\Dell\\anaconda3\\lib\\site-packages\\pandas\\core\\frame.py:3997: SettingWithCopyWarning: \n",
      "A value is trying to be set on a copy of a slice from a DataFrame\n",
      "\n",
      "See the caveats in the documentation: https://pandas.pydata.org/pandas-docs/stable/user_guide/indexing.html#returning-a-view-versus-a-copy\n",
      "  errors=errors,\n"
     ]
    }
   ],
   "source": [
    "df1.drop(['Gender','State'], axis='columns', inplace=True)"
   ]
  },
  {
   "cell_type": "code",
   "execution_count": 17,
   "metadata": {
    "colab": {
     "base_uri": "https://localhost:8080/"
    },
    "executionInfo": {
     "elapsed": 13,
     "status": "ok",
     "timestamp": 1629693839931,
     "user": {
      "displayName": "Lim Ming Yuen",
      "photoUrl": "",
      "userId": "14089031834122689521"
     },
     "user_tz": -480
    },
    "id": "_MAtF_wujcw2",
    "outputId": "244bde62-676d-4586-8020-a16ce92f4a93"
   },
   "outputs": [
    {
     "data": {
      "text/plain": [
       "(9993, 6)"
      ]
     },
     "execution_count": 17,
     "metadata": {},
     "output_type": "execute_result"
    }
   ],
   "source": [
    "df1.shape"
   ]
  },
  {
   "cell_type": "code",
   "execution_count": 18,
   "metadata": {
    "colab": {
     "base_uri": "https://localhost:8080/",
     "height": 204
    },
    "executionInfo": {
     "elapsed": 12,
     "status": "ok",
     "timestamp": 1629693839931,
     "user": {
      "displayName": "Lim Ming Yuen",
      "photoUrl": "",
      "userId": "14089031834122689521"
     },
     "user_tz": -480
    },
    "id": "Fw7Rr4xujhge",
    "outputId": "638d9281-16e8-42fc-abda-5a1432f6f1dc"
   },
   "outputs": [
    {
     "data": {
      "text/html": [
       "<div>\n",
       "<style scoped>\n",
       "    .dataframe tbody tr th:only-of-type {\n",
       "        vertical-align: middle;\n",
       "    }\n",
       "\n",
       "    .dataframe tbody tr th {\n",
       "        vertical-align: top;\n",
       "    }\n",
       "\n",
       "    .dataframe thead th {\n",
       "        text-align: right;\n",
       "    }\n",
       "</style>\n",
       "<table border=\"1\" class=\"dataframe\">\n",
       "  <thead>\n",
       "    <tr style=\"text-align: right;\">\n",
       "      <th></th>\n",
       "      <th>UBTM1013</th>\n",
       "      <th>UCCD1113</th>\n",
       "      <th>UCCD3033</th>\n",
       "      <th>Semester2_GPA</th>\n",
       "      <th>Semester2_CGPA</th>\n",
       "      <th>Semester3_CGPA</th>\n",
       "    </tr>\n",
       "  </thead>\n",
       "  <tbody>\n",
       "    <tr>\n",
       "      <th>0</th>\n",
       "      <td>71</td>\n",
       "      <td>79</td>\n",
       "      <td>49</td>\n",
       "      <td>2.333333</td>\n",
       "      <td>2.862222</td>\n",
       "      <td>2.880189</td>\n",
       "    </tr>\n",
       "    <tr>\n",
       "      <th>1</th>\n",
       "      <td>73</td>\n",
       "      <td>84</td>\n",
       "      <td>74</td>\n",
       "      <td>3.433333</td>\n",
       "      <td>2.948889</td>\n",
       "      <td>2.996226</td>\n",
       "    </tr>\n",
       "    <tr>\n",
       "      <th>2</th>\n",
       "      <td>54</td>\n",
       "      <td>70</td>\n",
       "      <td>81</td>\n",
       "      <td>3.000000</td>\n",
       "      <td>2.993333</td>\n",
       "      <td>2.960377</td>\n",
       "    </tr>\n",
       "    <tr>\n",
       "      <th>3</th>\n",
       "      <td>75</td>\n",
       "      <td>68</td>\n",
       "      <td>72</td>\n",
       "      <td>3.200000</td>\n",
       "      <td>2.962222</td>\n",
       "      <td>2.990566</td>\n",
       "    </tr>\n",
       "    <tr>\n",
       "      <th>4</th>\n",
       "      <td>68</td>\n",
       "      <td>67</td>\n",
       "      <td>52</td>\n",
       "      <td>2.666667</td>\n",
       "      <td>2.871111</td>\n",
       "      <td>2.882075</td>\n",
       "    </tr>\n",
       "  </tbody>\n",
       "</table>\n",
       "</div>"
      ],
      "text/plain": [
       "   UBTM1013  UCCD1113  UCCD3033  Semester2_GPA  Semester2_CGPA  Semester3_CGPA\n",
       "0        71        79        49       2.333333        2.862222        2.880189\n",
       "1        73        84        74       3.433333        2.948889        2.996226\n",
       "2        54        70        81       3.000000        2.993333        2.960377\n",
       "3        75        68        72       3.200000        2.962222        2.990566\n",
       "4        68        67        52       2.666667        2.871111        2.882075"
      ]
     },
     "execution_count": 18,
     "metadata": {},
     "output_type": "execute_result"
    }
   ],
   "source": [
    "#Print the data after dropping the columns\n",
    "df1.head()"
   ]
  },
  {
   "cell_type": "markdown",
   "metadata": {
    "id": "4qguOdmrZYPS"
   },
   "source": [
    "#Splitting the data"
   ]
  },
  {
   "cell_type": "code",
   "execution_count": 19,
   "metadata": {
    "executionInfo": {
     "elapsed": 12,
     "status": "ok",
     "timestamp": 1629693839932,
     "user": {
      "displayName": "Lim Ming Yuen",
      "photoUrl": "",
      "userId": "14089031834122689521"
     },
     "user_tz": -480
    },
    "id": "-uvnRB_-LoPf"
   },
   "outputs": [],
   "source": [
    "#Split the data set into independent(X) and dependent(Y) data sets\n",
    "y = df1.iloc[:,-1:]\n",
    "X = df1.iloc[:,:-1]"
   ]
  },
  {
   "cell_type": "code",
   "execution_count": 20,
   "metadata": {
    "executionInfo": {
     "elapsed": 12,
     "status": "ok",
     "timestamp": 1629693839932,
     "user": {
      "displayName": "Lim Ming Yuen",
      "photoUrl": "",
      "userId": "14089031834122689521"
     },
     "user_tz": -480
    },
    "id": "HqZ8YRCSUeJc"
   },
   "outputs": [],
   "source": [
    "#Split the data set into 70% training and 30% testing\n",
    "X_train, X_test, y_train, y_test = train_test_split(X, y, train_size=0.7)"
   ]
  },
  {
   "cell_type": "markdown",
   "metadata": {
    "id": "em_XJ16hZr-i"
   },
   "source": [
    "#Feature Scaling"
   ]
  },
  {
   "cell_type": "code",
   "execution_count": 21,
   "metadata": {
    "executionInfo": {
     "elapsed": 11,
     "status": "ok",
     "timestamp": 1629693839932,
     "user": {
      "displayName": "Lim Ming Yuen",
      "photoUrl": "",
      "userId": "14089031834122689521"
     },
     "user_tz": -480
    },
    "id": "WZ5C82sPUaER"
   },
   "outputs": [],
   "source": [
    "scaler = StandardScaler()\n",
    "\n",
    "X = pd.DataFrame(scaler.fit_transform(X), columns=X.columns)"
   ]
  },
  {
   "cell_type": "markdown",
   "metadata": {
    "id": "IvnWIR-McZJP"
   },
   "source": [
    "#Model Training"
   ]
  },
  {
   "cell_type": "code",
   "execution_count": 22,
   "metadata": {
    "colab": {
     "base_uri": "https://localhost:8080/"
    },
    "executionInfo": {
     "elapsed": 12,
     "status": "ok",
     "timestamp": 1629693839933,
     "user": {
      "displayName": "Lim Ming Yuen",
      "photoUrl": "",
      "userId": "14089031834122689521"
     },
     "user_tz": -480
    },
    "id": "k7WzHG5nUg1k",
    "outputId": "ba704ad0-39ed-49ef-8bb5-983c790a75ab"
   },
   "outputs": [
    {
     "data": {
      "text/plain": [
       "LinearRegression(copy_X=True, fit_intercept=True, n_jobs=None, normalize=False)"
      ]
     },
     "execution_count": 22,
     "metadata": {},
     "output_type": "execute_result"
    }
   ],
   "source": [
    "model = LinearRegression()\n",
    "model.fit(X_train, y_train)"
   ]
  },
  {
   "cell_type": "code",
   "execution_count": 23,
   "metadata": {
    "colab": {
     "base_uri": "https://localhost:8080/"
    },
    "executionInfo": {
     "elapsed": 11,
     "status": "ok",
     "timestamp": 1629693839933,
     "user": {
      "displayName": "Lim Ming Yuen",
      "photoUrl": "",
      "userId": "14089031834122689521"
     },
     "user_tz": -480
    },
    "id": "WyGK3qYDUieM",
    "outputId": "5c49cfdf-0f43-47b5-9e5c-a4ae3e0cb563"
   },
   "outputs": [
    {
     "name": "stdout",
     "output_type": "stream",
     "text": [
      "Accuracy: 72.57030278495536\n"
     ]
    }
   ],
   "source": [
    "print(\"Accuracy:\" ,model.score(X_test, y_test)*100)"
   ]
  },
  {
   "cell_type": "code",
   "execution_count": 24,
   "metadata": {
    "colab": {
     "base_uri": "https://localhost:8080/"
    },
    "executionInfo": {
     "elapsed": 10,
     "status": "ok",
     "timestamp": 1629693839933,
     "user": {
      "displayName": "Lim Ming Yuen",
      "photoUrl": "",
      "userId": "14089031834122689521"
     },
     "user_tz": -480
    },
    "id": "5ZNWIweGXACo",
    "outputId": "e83ced13-1e90-4b0a-942d-144cffc0a44f"
   },
   "outputs": [
    {
     "name": "stdout",
     "output_type": "stream",
     "text": [
      "[[2.77667274]\n",
      " [3.00151572]\n",
      " [2.98140099]\n",
      " ...\n",
      " [2.76693819]\n",
      " [2.82526132]\n",
      " [2.90010777]]\n",
      "      Semester3_CGPA\n",
      "3632        2.758491\n",
      "6808        3.036792\n",
      "8467        2.983019\n",
      "9682        2.891509\n",
      "7071        2.929245\n",
      "...              ...\n",
      "5227        2.803774\n",
      "3530        3.037736\n",
      "6102        2.786792\n",
      "295         2.783019\n",
      "850         2.831132\n",
      "\n",
      "[2998 rows x 1 columns]\n"
     ]
    }
   ],
   "source": [
    "prediction = model.predict(X_test)\n",
    "print(prediction)\n",
    "print(y_test)"
   ]
  },
  {
   "cell_type": "code",
   "execution_count": 25,
   "metadata": {
    "executionInfo": {
     "elapsed": 9,
     "status": "ok",
     "timestamp": 1629693839933,
     "user": {
      "displayName": "Lim Ming Yuen",
      "photoUrl": "",
      "userId": "14089031834122689521"
     },
     "user_tz": -480
    },
    "id": "60J_trImoTOk"
   },
   "outputs": [],
   "source": [
    "import pickle \n",
    "pickle_out = open(\"Y3S3.pkl\", mode = \"wb\") \n",
    "pickle.dump(model, pickle_out) \n",
    "pickle_out.close()"
   ]
  },
  {
   "cell_type": "code",
   "execution_count": 25,
   "metadata": {
    "executionInfo": {
     "elapsed": 9,
     "status": "ok",
     "timestamp": 1629693839934,
     "user": {
      "displayName": "Lim Ming Yuen",
      "photoUrl": "",
      "userId": "14089031834122689521"
     },
     "user_tz": -480
    },
    "id": "YuOjcqECc2y_"
   },
   "outputs": [],
   "source": []
  }
 ],
 "metadata": {
  "colab": {
   "authorship_tag": "ABX9TyOLK9rbcfR8Nw0geRFoSf18",
   "collapsed_sections": [],
   "name": "CGPA_Prediction_Of_Y3S3.ipynb",
   "provenance": []
  },
  "kernelspec": {
   "display_name": "Python 3",
   "language": "python",
   "name": "python3"
  },
  "language_info": {
   "codemirror_mode": {
    "name": "ipython",
    "version": 3
   },
   "file_extension": ".py",
   "mimetype": "text/x-python",
   "name": "python",
   "nbconvert_exporter": "python",
   "pygments_lexer": "ipython3",
   "version": "3.7.6"
  }
 },
 "nbformat": 4,
 "nbformat_minor": 1
}
