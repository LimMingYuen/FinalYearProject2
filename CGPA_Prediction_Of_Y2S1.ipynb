{
 "cells": [
  {
   "cell_type": "markdown",
   "metadata": {
    "id": "zSYD_MaDe9Q8"
   },
   "source": [
    "## This is a notebook that use Linear Regression to predict the Cummulative Grade Point\n"
   ]
  },
  {
   "cell_type": "markdown",
   "metadata": {
    "id": "u69ym8rwHR-q"
   },
   "source": [
    "#Import modules\n"
   ]
  },
  {
   "cell_type": "code",
   "execution_count": 1,
   "metadata": {
    "executionInfo": {
     "elapsed": 1299,
     "status": "ok",
     "timestamp": 1629693062983,
     "user": {
      "displayName": "Lim Ming Yuen",
      "photoUrl": "",
      "userId": "14089031834122689521"
     },
     "user_tz": -480
    },
    "id": "GCYHsEvJJuL5"
   },
   "outputs": [],
   "source": [
    "#import libraries\n",
    "import numpy as np\n",
    "import pandas as pd\n",
    "import matplotlib.pyplot as plt\n",
    "import seaborn as sns\n",
    "from sklearn.preprocessing import LabelEncoder\n",
    "from sklearn.preprocessing import StandardScaler\n",
    "from sklearn.model_selection import train_test_split\n",
    "from sklearn.linear_model import LinearRegression"
   ]
  },
  {
   "cell_type": "markdown",
   "metadata": {
    "id": "oXNgA-MOIBUa"
   },
   "source": [
    "#Loading the dataset"
   ]
  },
  {
   "cell_type": "code",
   "execution_count": 2,
   "metadata": {
    "colab": {
     "base_uri": "https://localhost:8080/",
     "height": 72,
     "resources": {
      "http://localhost:8080/nbextensions/google.colab/files.js": {
       "data": "Ly8gQ29weXJpZ2h0IDIwMTcgR29vZ2xlIExMQwovLwovLyBMaWNlbnNlZCB1bmRlciB0aGUgQXBhY2hlIExpY2Vuc2UsIFZlcnNpb24gMi4wICh0aGUgIkxpY2Vuc2UiKTsKLy8geW91IG1heSBub3QgdXNlIHRoaXMgZmlsZSBleGNlcHQgaW4gY29tcGxpYW5jZSB3aXRoIHRoZSBMaWNlbnNlLgovLyBZb3UgbWF5IG9idGFpbiBhIGNvcHkgb2YgdGhlIExpY2Vuc2UgYXQKLy8KLy8gICAgICBodHRwOi8vd3d3LmFwYWNoZS5vcmcvbGljZW5zZXMvTElDRU5TRS0yLjAKLy8KLy8gVW5sZXNzIHJlcXVpcmVkIGJ5IGFwcGxpY2FibGUgbGF3IG9yIGFncmVlZCB0byBpbiB3cml0aW5nLCBzb2Z0d2FyZQovLyBkaXN0cmlidXRlZCB1bmRlciB0aGUgTGljZW5zZSBpcyBkaXN0cmlidXRlZCBvbiBhbiAiQVMgSVMiIEJBU0lTLAovLyBXSVRIT1VUIFdBUlJBTlRJRVMgT1IgQ09ORElUSU9OUyBPRiBBTlkgS0lORCwgZWl0aGVyIGV4cHJlc3Mgb3IgaW1wbGllZC4KLy8gU2VlIHRoZSBMaWNlbnNlIGZvciB0aGUgc3BlY2lmaWMgbGFuZ3VhZ2UgZ292ZXJuaW5nIHBlcm1pc3Npb25zIGFuZAovLyBsaW1pdGF0aW9ucyB1bmRlciB0aGUgTGljZW5zZS4KCi8qKgogKiBAZmlsZW92ZXJ2aWV3IEhlbHBlcnMgZm9yIGdvb2dsZS5jb2xhYiBQeXRob24gbW9kdWxlLgogKi8KKGZ1bmN0aW9uKHNjb3BlKSB7CmZ1bmN0aW9uIHNwYW4odGV4dCwgc3R5bGVBdHRyaWJ1dGVzID0ge30pIHsKICBjb25zdCBlbGVtZW50ID0gZG9jdW1lbnQuY3JlYXRlRWxlbWVudCgnc3BhbicpOwogIGVsZW1lbnQudGV4dENvbnRlbnQgPSB0ZXh0OwogIGZvciAoY29uc3Qga2V5IG9mIE9iamVjdC5rZXlzKHN0eWxlQXR0cmlidXRlcykpIHsKICAgIGVsZW1lbnQuc3R5bGVba2V5XSA9IHN0eWxlQXR0cmlidXRlc1trZXldOwogIH0KICByZXR1cm4gZWxlbWVudDsKfQoKLy8gTWF4IG51bWJlciBvZiBieXRlcyB3aGljaCB3aWxsIGJlIHVwbG9hZGVkIGF0IGEgdGltZS4KY29uc3QgTUFYX1BBWUxPQURfU0laRSA9IDEwMCAqIDEwMjQ7CgpmdW5jdGlvbiBfdXBsb2FkRmlsZXMoaW5wdXRJZCwgb3V0cHV0SWQpIHsKICBjb25zdCBzdGVwcyA9IHVwbG9hZEZpbGVzU3RlcChpbnB1dElkLCBvdXRwdXRJZCk7CiAgY29uc3Qgb3V0cHV0RWxlbWVudCA9IGRvY3VtZW50LmdldEVsZW1lbnRCeUlkKG91dHB1dElkKTsKICAvLyBDYWNoZSBzdGVwcyBvbiB0aGUgb3V0cHV0RWxlbWVudCB0byBtYWtlIGl0IGF2YWlsYWJsZSBmb3IgdGhlIG5leHQgY2FsbAogIC8vIHRvIHVwbG9hZEZpbGVzQ29udGludWUgZnJvbSBQeXRob24uCiAgb3V0cHV0RWxlbWVudC5zdGVwcyA9IHN0ZXBzOwoKICByZXR1cm4gX3VwbG9hZEZpbGVzQ29udGludWUob3V0cHV0SWQpOwp9CgovLyBUaGlzIGlzIHJvdWdobHkgYW4gYXN5bmMgZ2VuZXJhdG9yIChub3Qgc3VwcG9ydGVkIGluIHRoZSBicm93c2VyIHlldCksCi8vIHdoZXJlIHRoZXJlIGFyZSBtdWx0aXBsZSBhc3luY2hyb25vdXMgc3RlcHMgYW5kIHRoZSBQeXRob24gc2lkZSBpcyBnb2luZwovLyB0byBwb2xsIGZvciBjb21wbGV0aW9uIG9mIGVhY2ggc3RlcC4KLy8gVGhpcyB1c2VzIGEgUHJvbWlzZSB0byBibG9jayB0aGUgcHl0aG9uIHNpZGUgb24gY29tcGxldGlvbiBvZiBlYWNoIHN0ZXAsCi8vIHRoZW4gcGFzc2VzIHRoZSByZXN1bHQgb2YgdGhlIHByZXZpb3VzIHN0ZXAgYXMgdGhlIGlucHV0IHRvIHRoZSBuZXh0IHN0ZXAuCmZ1bmN0aW9uIF91cGxvYWRGaWxlc0NvbnRpbnVlKG91dHB1dElkKSB7CiAgY29uc3Qgb3V0cHV0RWxlbWVudCA9IGRvY3VtZW50LmdldEVsZW1lbnRCeUlkKG91dHB1dElkKTsKICBjb25zdCBzdGVwcyA9IG91dHB1dEVsZW1lbnQuc3RlcHM7CgogIGNvbnN0IG5leHQgPSBzdGVwcy5uZXh0KG91dHB1dEVsZW1lbnQubGFzdFByb21pc2VWYWx1ZSk7CiAgcmV0dXJuIFByb21pc2UucmVzb2x2ZShuZXh0LnZhbHVlLnByb21pc2UpLnRoZW4oKHZhbHVlKSA9PiB7CiAgICAvLyBDYWNoZSB0aGUgbGFzdCBwcm9taXNlIHZhbHVlIHRvIG1ha2UgaXQgYXZhaWxhYmxlIHRvIHRoZSBuZXh0CiAgICAvLyBzdGVwIG9mIHRoZSBnZW5lcmF0b3IuCiAgICBvdXRwdXRFbGVtZW50Lmxhc3RQcm9taXNlVmFsdWUgPSB2YWx1ZTsKICAgIHJldHVybiBuZXh0LnZhbHVlLnJlc3BvbnNlOwogIH0pOwp9CgovKioKICogR2VuZXJhdG9yIGZ1bmN0aW9uIHdoaWNoIGlzIGNhbGxlZCBiZXR3ZWVuIGVhY2ggYXN5bmMgc3RlcCBvZiB0aGUgdXBsb2FkCiAqIHByb2Nlc3MuCiAqIEBwYXJhbSB7c3RyaW5nfSBpbnB1dElkIEVsZW1lbnQgSUQgb2YgdGhlIGlucHV0IGZpbGUgcGlja2VyIGVsZW1lbnQuCiAqIEBwYXJhbSB7c3RyaW5nfSBvdXRwdXRJZCBFbGVtZW50IElEIG9mIHRoZSBvdXRwdXQgZGlzcGxheS4KICogQHJldHVybiB7IUl0ZXJhYmxlPCFPYmplY3Q+fSBJdGVyYWJsZSBvZiBuZXh0IHN0ZXBzLgogKi8KZnVuY3Rpb24qIHVwbG9hZEZpbGVzU3RlcChpbnB1dElkLCBvdXRwdXRJZCkgewogIGNvbnN0IGlucHV0RWxlbWVudCA9IGRvY3VtZW50LmdldEVsZW1lbnRCeUlkKGlucHV0SWQpOwogIGlucHV0RWxlbWVudC5kaXNhYmxlZCA9IGZhbHNlOwoKICBjb25zdCBvdXRwdXRFbGVtZW50ID0gZG9jdW1lbnQuZ2V0RWxlbWVudEJ5SWQob3V0cHV0SWQpOwogIG91dHB1dEVsZW1lbnQuaW5uZXJIVE1MID0gJyc7CgogIGNvbnN0IHBpY2tlZFByb21pc2UgPSBuZXcgUHJvbWlzZSgocmVzb2x2ZSkgPT4gewogICAgaW5wdXRFbGVtZW50LmFkZEV2ZW50TGlzdGVuZXIoJ2NoYW5nZScsIChlKSA9PiB7CiAgICAgIHJlc29sdmUoZS50YXJnZXQuZmlsZXMpOwogICAgfSk7CiAgfSk7CgogIGNvbnN0IGNhbmNlbCA9IGRvY3VtZW50LmNyZWF0ZUVsZW1lbnQoJ2J1dHRvbicpOwogIGlucHV0RWxlbWVudC5wYXJlbnRFbGVtZW50LmFwcGVuZENoaWxkKGNhbmNlbCk7CiAgY2FuY2VsLnRleHRDb250ZW50ID0gJ0NhbmNlbCB1cGxvYWQnOwogIGNvbnN0IGNhbmNlbFByb21pc2UgPSBuZXcgUHJvbWlzZSgocmVzb2x2ZSkgPT4gewogICAgY2FuY2VsLm9uY2xpY2sgPSAoKSA9PiB7CiAgICAgIHJlc29sdmUobnVsbCk7CiAgICB9OwogIH0pOwoKICAvLyBXYWl0IGZvciB0aGUgdXNlciB0byBwaWNrIHRoZSBmaWxlcy4KICBjb25zdCBmaWxlcyA9IHlpZWxkIHsKICAgIHByb21pc2U6IFByb21pc2UucmFjZShbcGlja2VkUHJvbWlzZSwgY2FuY2VsUHJvbWlzZV0pLAogICAgcmVzcG9uc2U6IHsKICAgICAgYWN0aW9uOiAnc3RhcnRpbmcnLAogICAgfQogIH07CgogIGNhbmNlbC5yZW1vdmUoKTsKCiAgLy8gRGlzYWJsZSB0aGUgaW5wdXQgZWxlbWVudCBzaW5jZSBmdXJ0aGVyIHBpY2tzIGFyZSBub3QgYWxsb3dlZC4KICBpbnB1dEVsZW1lbnQuZGlzYWJsZWQgPSB0cnVlOwoKICBpZiAoIWZpbGVzKSB7CiAgICByZXR1cm4gewogICAgICByZXNwb25zZTogewogICAgICAgIGFjdGlvbjogJ2NvbXBsZXRlJywKICAgICAgfQogICAgfTsKICB9CgogIGZvciAoY29uc3QgZmlsZSBvZiBmaWxlcykgewogICAgY29uc3QgbGkgPSBkb2N1bWVudC5jcmVhdGVFbGVtZW50KCdsaScpOwogICAgbGkuYXBwZW5kKHNwYW4oZmlsZS5uYW1lLCB7Zm9udFdlaWdodDogJ2JvbGQnfSkpOwogICAgbGkuYXBwZW5kKHNwYW4oCiAgICAgICAgYCgke2ZpbGUudHlwZSB8fCAnbi9hJ30pIC0gJHtmaWxlLnNpemV9IGJ5dGVzLCBgICsKICAgICAgICBgbGFzdCBtb2RpZmllZDogJHsKICAgICAgICAgICAgZmlsZS5sYXN0TW9kaWZpZWREYXRlID8gZmlsZS5sYXN0TW9kaWZpZWREYXRlLnRvTG9jYWxlRGF0ZVN0cmluZygpIDoKICAgICAgICAgICAgICAgICAgICAgICAgICAgICAgICAgICAgJ24vYSd9IC0gYCkpOwogICAgY29uc3QgcGVyY2VudCA9IHNwYW4oJzAlIGRvbmUnKTsKICAgIGxpLmFwcGVuZENoaWxkKHBlcmNlbnQpOwoKICAgIG91dHB1dEVsZW1lbnQuYXBwZW5kQ2hpbGQobGkpOwoKICAgIGNvbnN0IGZpbGVEYXRhUHJvbWlzZSA9IG5ldyBQcm9taXNlKChyZXNvbHZlKSA9PiB7CiAgICAgIGNvbnN0IHJlYWRlciA9IG5ldyBGaWxlUmVhZGVyKCk7CiAgICAgIHJlYWRlci5vbmxvYWQgPSAoZSkgPT4gewogICAgICAgIHJlc29sdmUoZS50YXJnZXQucmVzdWx0KTsKICAgICAgfTsKICAgICAgcmVhZGVyLnJlYWRBc0FycmF5QnVmZmVyKGZpbGUpOwogICAgfSk7CiAgICAvLyBXYWl0IGZvciB0aGUgZGF0YSB0byBiZSByZWFkeS4KICAgIGxldCBmaWxlRGF0YSA9IHlpZWxkIHsKICAgICAgcHJvbWlzZTogZmlsZURhdGFQcm9taXNlLAogICAgICByZXNwb25zZTogewogICAgICAgIGFjdGlvbjogJ2NvbnRpbnVlJywKICAgICAgfQogICAgfTsKCiAgICAvLyBVc2UgYSBjaHVua2VkIHNlbmRpbmcgdG8gYXZvaWQgbWVzc2FnZSBzaXplIGxpbWl0cy4gU2VlIGIvNjIxMTU2NjAuCiAgICBsZXQgcG9zaXRpb24gPSAwOwogICAgZG8gewogICAgICBjb25zdCBsZW5ndGggPSBNYXRoLm1pbihmaWxlRGF0YS5ieXRlTGVuZ3RoIC0gcG9zaXRpb24sIE1BWF9QQVlMT0FEX1NJWkUpOwogICAgICBjb25zdCBjaHVuayA9IG5ldyBVaW50OEFycmF5KGZpbGVEYXRhLCBwb3NpdGlvbiwgbGVuZ3RoKTsKICAgICAgcG9zaXRpb24gKz0gbGVuZ3RoOwoKICAgICAgY29uc3QgYmFzZTY0ID0gYnRvYShTdHJpbmcuZnJvbUNoYXJDb2RlLmFwcGx5KG51bGwsIGNodW5rKSk7CiAgICAgIHlpZWxkIHsKICAgICAgICByZXNwb25zZTogewogICAgICAgICAgYWN0aW9uOiAnYXBwZW5kJywKICAgICAgICAgIGZpbGU6IGZpbGUubmFtZSwKICAgICAgICAgIGRhdGE6IGJhc2U2NCwKICAgICAgICB9LAogICAgICB9OwoKICAgICAgbGV0IHBlcmNlbnREb25lID0gZmlsZURhdGEuYnl0ZUxlbmd0aCA9PT0gMCA/CiAgICAgICAgICAxMDAgOgogICAgICAgICAgTWF0aC5yb3VuZCgocG9zaXRpb24gLyBmaWxlRGF0YS5ieXRlTGVuZ3RoKSAqIDEwMCk7CiAgICAgIHBlcmNlbnQudGV4dENvbnRlbnQgPSBgJHtwZXJjZW50RG9uZX0lIGRvbmVgOwoKICAgIH0gd2hpbGUgKHBvc2l0aW9uIDwgZmlsZURhdGEuYnl0ZUxlbmd0aCk7CiAgfQoKICAvLyBBbGwgZG9uZS4KICB5aWVsZCB7CiAgICByZXNwb25zZTogewogICAgICBhY3Rpb246ICdjb21wbGV0ZScsCiAgICB9CiAgfTsKfQoKc2NvcGUuZ29vZ2xlID0gc2NvcGUuZ29vZ2xlIHx8IHt9OwpzY29wZS5nb29nbGUuY29sYWIgPSBzY29wZS5nb29nbGUuY29sYWIgfHwge307CnNjb3BlLmdvb2dsZS5jb2xhYi5fZmlsZXMgPSB7CiAgX3VwbG9hZEZpbGVzLAogIF91cGxvYWRGaWxlc0NvbnRpbnVlLAp9Owp9KShzZWxmKTsK",
       "headers": [
        [
         "content-type",
         "application/javascript"
        ]
       ],
       "ok": true,
       "status": 200,
       "status_text": ""
      }
     }
    },
    "executionInfo": {
     "elapsed": 19646,
     "status": "ok",
     "timestamp": 1629693087729,
     "user": {
      "displayName": "Lim Ming Yuen",
      "photoUrl": "",
      "userId": "14089031834122689521"
     },
     "user_tz": -480
    },
    "id": "S4f_1uJhJ4Tg",
    "outputId": "6e688a40-41a4-4631-d27b-e638626a30c7"
   },
   "outputs": [],
   "source": [
    "#Load the data\n",
    "df = pd.read_excel (r'C:\\Users\\Dell\\Downloads\\Y2S1.xlsx', sheet_name='Sheet1')\n"
   ]
  },
  {
   "cell_type": "code",
   "execution_count": 3,
   "metadata": {
    "colab": {
     "base_uri": "https://localhost:8080/",
     "height": 266
    },
    "executionInfo": {
     "elapsed": 331,
     "status": "ok",
     "timestamp": 1629693094458,
     "user": {
      "displayName": "Lim Ming Yuen",
      "photoUrl": "",
      "userId": "14089031834122689521"
     },
     "user_tz": -480
    },
    "id": "NHge5RuJnd0Z",
    "outputId": "e4f8323e-db4f-490a-a990-8d0ea3e01a0b"
   },
   "outputs": [
    {
     "data": {
      "text/html": [
       "<div>\n",
       "<style scoped>\n",
       "    .dataframe tbody tr th:only-of-type {\n",
       "        vertical-align: middle;\n",
       "    }\n",
       "\n",
       "    .dataframe tbody tr th {\n",
       "        vertical-align: top;\n",
       "    }\n",
       "\n",
       "    .dataframe thead th {\n",
       "        text-align: right;\n",
       "    }\n",
       "</style>\n",
       "<table border=\"1\" class=\"dataframe\">\n",
       "  <thead>\n",
       "    <tr style=\"text-align: right;\">\n",
       "      <th></th>\n",
       "      <th>Gender</th>\n",
       "      <th>State</th>\n",
       "      <th>MPU3113</th>\n",
       "      <th>MPU32143</th>\n",
       "      <th>UCCD1013</th>\n",
       "      <th>UCCD1024</th>\n",
       "      <th>UCCD1133</th>\n",
       "      <th>UCCM1363</th>\n",
       "      <th>Semester3_GPA</th>\n",
       "      <th>Semester3_CGPA</th>\n",
       "      <th>Semester1_CGPA</th>\n",
       "    </tr>\n",
       "  </thead>\n",
       "  <tbody>\n",
       "    <tr>\n",
       "      <th>0</th>\n",
       "      <td>Female</td>\n",
       "      <td>Pahang</td>\n",
       "      <td>71</td>\n",
       "      <td>48</td>\n",
       "      <td>73</td>\n",
       "      <td>52</td>\n",
       "      <td>62</td>\n",
       "      <td>67</td>\n",
       "      <td>2.80625</td>\n",
       "      <td>2.820513</td>\n",
       "      <td>2.894545</td>\n",
       "    </tr>\n",
       "    <tr>\n",
       "      <th>1</th>\n",
       "      <td>Male</td>\n",
       "      <td>Kedah</td>\n",
       "      <td>68</td>\n",
       "      <td>54</td>\n",
       "      <td>71</td>\n",
       "      <td>76</td>\n",
       "      <td>49</td>\n",
       "      <td>65</td>\n",
       "      <td>2.30000</td>\n",
       "      <td>2.951282</td>\n",
       "      <td>2.969091</td>\n",
       "    </tr>\n",
       "    <tr>\n",
       "      <th>2</th>\n",
       "      <td>Male</td>\n",
       "      <td>Malacca</td>\n",
       "      <td>62</td>\n",
       "      <td>66</td>\n",
       "      <td>72</td>\n",
       "      <td>54</td>\n",
       "      <td>71</td>\n",
       "      <td>71</td>\n",
       "      <td>2.86250</td>\n",
       "      <td>3.007692</td>\n",
       "      <td>3.005455</td>\n",
       "    </tr>\n",
       "    <tr>\n",
       "      <th>3</th>\n",
       "      <td>Female</td>\n",
       "      <td>Kelantan</td>\n",
       "      <td>78</td>\n",
       "      <td>81</td>\n",
       "      <td>66</td>\n",
       "      <td>82</td>\n",
       "      <td>66</td>\n",
       "      <td>74</td>\n",
       "      <td>3.36250</td>\n",
       "      <td>2.797436</td>\n",
       "      <td>2.872727</td>\n",
       "    </tr>\n",
       "    <tr>\n",
       "      <th>4</th>\n",
       "      <td>Male</td>\n",
       "      <td>Perak</td>\n",
       "      <td>77</td>\n",
       "      <td>61</td>\n",
       "      <td>50</td>\n",
       "      <td>51</td>\n",
       "      <td>78</td>\n",
       "      <td>73</td>\n",
       "      <td>2.67500</td>\n",
       "      <td>2.794872</td>\n",
       "      <td>2.892727</td>\n",
       "    </tr>\n",
       "    <tr>\n",
       "      <th>5</th>\n",
       "      <td>Male</td>\n",
       "      <td>Johor</td>\n",
       "      <td>65</td>\n",
       "      <td>65</td>\n",
       "      <td>58</td>\n",
       "      <td>61</td>\n",
       "      <td>55</td>\n",
       "      <td>60</td>\n",
       "      <td>3.00000</td>\n",
       "      <td>2.838462</td>\n",
       "      <td>2.725455</td>\n",
       "    </tr>\n",
       "    <tr>\n",
       "      <th>6</th>\n",
       "      <td>Female</td>\n",
       "      <td>Negeri Sembilan</td>\n",
       "      <td>66</td>\n",
       "      <td>64</td>\n",
       "      <td>66</td>\n",
       "      <td>70</td>\n",
       "      <td>59</td>\n",
       "      <td>63</td>\n",
       "      <td>2.88750</td>\n",
       "      <td>2.697436</td>\n",
       "      <td>2.823636</td>\n",
       "    </tr>\n",
       "  </tbody>\n",
       "</table>\n",
       "</div>"
      ],
      "text/plain": [
       "   Gender            State  MPU3113  MPU32143  UCCD1013  UCCD1024  UCCD1133  \\\n",
       "0  Female           Pahang       71        48        73        52        62   \n",
       "1    Male            Kedah       68        54        71        76        49   \n",
       "2    Male          Malacca       62        66        72        54        71   \n",
       "3  Female         Kelantan       78        81        66        82        66   \n",
       "4    Male            Perak       77        61        50        51        78   \n",
       "5    Male            Johor       65        65        58        61        55   \n",
       "6  Female  Negeri Sembilan       66        64        66        70        59   \n",
       "\n",
       "   UCCM1363  Semester3_GPA  Semester3_CGPA  Semester1_CGPA  \n",
       "0        67        2.80625        2.820513        2.894545  \n",
       "1        65        2.30000        2.951282        2.969091  \n",
       "2        71        2.86250        3.007692        3.005455  \n",
       "3        74        3.36250        2.797436        2.872727  \n",
       "4        73        2.67500        2.794872        2.892727  \n",
       "5        60        3.00000        2.838462        2.725455  \n",
       "6        63        2.88750        2.697436        2.823636  "
      ]
     },
     "execution_count": 3,
     "metadata": {},
     "output_type": "execute_result"
    }
   ],
   "source": [
    "#Display the first 7 row of data\n",
    "df.head(7)"
   ]
  },
  {
   "cell_type": "code",
   "execution_count": 4,
   "metadata": {
    "colab": {
     "base_uri": "https://localhost:8080/"
    },
    "executionInfo": {
     "elapsed": 286,
     "status": "ok",
     "timestamp": 1629693098276,
     "user": {
      "displayName": "Lim Ming Yuen",
      "photoUrl": "",
      "userId": "14089031834122689521"
     },
     "user_tz": -480
    },
    "id": "l30kZtknKWuw",
    "outputId": "ddcb6471-e3fb-4dea-ee82-bddecee1321a"
   },
   "outputs": [
    {
     "data": {
      "text/plain": [
       "(10000, 11)"
      ]
     },
     "execution_count": 4,
     "metadata": {},
     "output_type": "execute_result"
    }
   ],
   "source": [
    "#Count the number of rows and columns in the data set\n",
    "df.shape"
   ]
  },
  {
   "cell_type": "code",
   "execution_count": 5,
   "metadata": {
    "colab": {
     "base_uri": "https://localhost:8080/"
    },
    "executionInfo": {
     "elapsed": 2,
     "status": "ok",
     "timestamp": 1629693099933,
     "user": {
      "displayName": "Lim Ming Yuen",
      "photoUrl": "",
      "userId": "14089031834122689521"
     },
     "user_tz": -480
    },
    "id": "o8wNG6zvLLkg",
    "outputId": "62d25915-4e8b-4055-dad0-b286b59c33c4"
   },
   "outputs": [
    {
     "data": {
      "text/plain": [
       "Gender            0\n",
       "State             0\n",
       "MPU3113           0\n",
       "MPU32143          0\n",
       "UCCD1013          0\n",
       "UCCD1024          0\n",
       "UCCD1133          0\n",
       "UCCM1363          0\n",
       "Semester3_GPA     2\n",
       "Semester3_CGPA    7\n",
       "Semester1_CGPA    7\n",
       "dtype: int64"
      ]
     },
     "execution_count": 5,
     "metadata": {},
     "output_type": "execute_result"
    }
   ],
   "source": [
    "#Find the column that consist null value\n",
    "df.isna().sum()"
   ]
  },
  {
   "cell_type": "code",
   "execution_count": 6,
   "metadata": {
    "executionInfo": {
     "elapsed": 2,
     "status": "ok",
     "timestamp": 1629693100860,
     "user": {
      "displayName": "Lim Ming Yuen",
      "photoUrl": "",
      "userId": "14089031834122689521"
     },
     "user_tz": -480
    },
    "id": "ogfQMWCkWMmk"
   },
   "outputs": [],
   "source": [
    "#Remove the row that consist of null value\n",
    "df1=df.dropna()"
   ]
  },
  {
   "cell_type": "code",
   "execution_count": 7,
   "metadata": {
    "colab": {
     "base_uri": "https://localhost:8080/"
    },
    "executionInfo": {
     "elapsed": 2,
     "status": "ok",
     "timestamp": 1629693101558,
     "user": {
      "displayName": "Lim Ming Yuen",
      "photoUrl": "",
      "userId": "14089031834122689521"
     },
     "user_tz": -480
    },
    "id": "WiogvslYWjjM",
    "outputId": "229e7207-db73-4cd9-940f-d32b06df92a0"
   },
   "outputs": [
    {
     "data": {
      "text/plain": [
       "Gender            0\n",
       "State             0\n",
       "MPU3113           0\n",
       "MPU32143          0\n",
       "UCCD1013          0\n",
       "UCCD1024          0\n",
       "UCCD1133          0\n",
       "UCCM1363          0\n",
       "Semester3_GPA     0\n",
       "Semester3_CGPA    0\n",
       "Semester1_CGPA    0\n",
       "dtype: int64"
      ]
     },
     "execution_count": 7,
     "metadata": {},
     "output_type": "execute_result"
    }
   ],
   "source": [
    "#Check the if there still any null value\n",
    "df1.isna().sum()"
   ]
  },
  {
   "cell_type": "code",
   "execution_count": 8,
   "metadata": {
    "colab": {
     "base_uri": "https://localhost:8080/",
     "height": 297
    },
    "executionInfo": {
     "elapsed": 3,
     "status": "ok",
     "timestamp": 1629693103397,
     "user": {
      "displayName": "Lim Ming Yuen",
      "photoUrl": "",
      "userId": "14089031834122689521"
     },
     "user_tz": -480
    },
    "id": "Y5rlAROMLXmH",
    "outputId": "7e8a0114-44f4-497b-92ca-e2239bcfbec0"
   },
   "outputs": [
    {
     "data": {
      "text/html": [
       "<div>\n",
       "<style scoped>\n",
       "    .dataframe tbody tr th:only-of-type {\n",
       "        vertical-align: middle;\n",
       "    }\n",
       "\n",
       "    .dataframe tbody tr th {\n",
       "        vertical-align: top;\n",
       "    }\n",
       "\n",
       "    .dataframe thead th {\n",
       "        text-align: right;\n",
       "    }\n",
       "</style>\n",
       "<table border=\"1\" class=\"dataframe\">\n",
       "  <thead>\n",
       "    <tr style=\"text-align: right;\">\n",
       "      <th></th>\n",
       "      <th>MPU3113</th>\n",
       "      <th>MPU32143</th>\n",
       "      <th>UCCD1013</th>\n",
       "      <th>UCCD1024</th>\n",
       "      <th>UCCD1133</th>\n",
       "      <th>UCCM1363</th>\n",
       "      <th>Semester3_GPA</th>\n",
       "      <th>Semester3_CGPA</th>\n",
       "      <th>Semester1_CGPA</th>\n",
       "    </tr>\n",
       "  </thead>\n",
       "  <tbody>\n",
       "    <tr>\n",
       "      <th>count</th>\n",
       "      <td>9993.000000</td>\n",
       "      <td>9993.000000</td>\n",
       "      <td>9993.000000</td>\n",
       "      <td>9993.000000</td>\n",
       "      <td>9993.000000</td>\n",
       "      <td>9993.000000</td>\n",
       "      <td>9993.000000</td>\n",
       "      <td>9993.000000</td>\n",
       "      <td>9993.000000</td>\n",
       "    </tr>\n",
       "    <tr>\n",
       "      <th>mean</th>\n",
       "      <td>66.126889</td>\n",
       "      <td>65.907235</td>\n",
       "      <td>65.977184</td>\n",
       "      <td>65.918543</td>\n",
       "      <td>66.006304</td>\n",
       "      <td>65.929451</td>\n",
       "      <td>2.878025</td>\n",
       "      <td>2.871670</td>\n",
       "      <td>2.862161</td>\n",
       "    </tr>\n",
       "    <tr>\n",
       "      <th>std</th>\n",
       "      <td>8.498405</td>\n",
       "      <td>8.453867</td>\n",
       "      <td>8.451546</td>\n",
       "      <td>8.386587</td>\n",
       "      <td>8.383310</td>\n",
       "      <td>8.530929</td>\n",
       "      <td>0.301000</td>\n",
       "      <td>0.162987</td>\n",
       "      <td>0.140411</td>\n",
       "    </tr>\n",
       "    <tr>\n",
       "      <th>min</th>\n",
       "      <td>43.000000</td>\n",
       "      <td>42.000000</td>\n",
       "      <td>42.000000</td>\n",
       "      <td>42.000000</td>\n",
       "      <td>43.000000</td>\n",
       "      <td>42.000000</td>\n",
       "      <td>1.887500</td>\n",
       "      <td>2.287179</td>\n",
       "      <td>2.080000</td>\n",
       "    </tr>\n",
       "    <tr>\n",
       "      <th>25%</th>\n",
       "      <td>60.000000</td>\n",
       "      <td>59.000000</td>\n",
       "      <td>60.000000</td>\n",
       "      <td>60.000000</td>\n",
       "      <td>60.000000</td>\n",
       "      <td>60.000000</td>\n",
       "      <td>2.700000</td>\n",
       "      <td>2.761538</td>\n",
       "      <td>2.770909</td>\n",
       "    </tr>\n",
       "    <tr>\n",
       "      <th>50%</th>\n",
       "      <td>66.000000</td>\n",
       "      <td>66.000000</td>\n",
       "      <td>66.000000</td>\n",
       "      <td>66.000000</td>\n",
       "      <td>66.000000</td>\n",
       "      <td>66.000000</td>\n",
       "      <td>2.887500</td>\n",
       "      <td>2.874359</td>\n",
       "      <td>2.867273</td>\n",
       "    </tr>\n",
       "    <tr>\n",
       "      <th>75%</th>\n",
       "      <td>73.000000</td>\n",
       "      <td>72.000000</td>\n",
       "      <td>72.000000</td>\n",
       "      <td>72.000000</td>\n",
       "      <td>72.000000</td>\n",
       "      <td>72.000000</td>\n",
       "      <td>3.056250</td>\n",
       "      <td>2.989744</td>\n",
       "      <td>2.960000</td>\n",
       "    </tr>\n",
       "    <tr>\n",
       "      <th>max</th>\n",
       "      <td>89.000000</td>\n",
       "      <td>89.000000</td>\n",
       "      <td>89.000000</td>\n",
       "      <td>88.000000</td>\n",
       "      <td>89.000000</td>\n",
       "      <td>89.000000</td>\n",
       "      <td>3.700000</td>\n",
       "      <td>3.564103</td>\n",
       "      <td>3.356364</td>\n",
       "    </tr>\n",
       "  </tbody>\n",
       "</table>\n",
       "</div>"
      ],
      "text/plain": [
       "           MPU3113     MPU32143     UCCD1013     UCCD1024     UCCD1133  \\\n",
       "count  9993.000000  9993.000000  9993.000000  9993.000000  9993.000000   \n",
       "mean     66.126889    65.907235    65.977184    65.918543    66.006304   \n",
       "std       8.498405     8.453867     8.451546     8.386587     8.383310   \n",
       "min      43.000000    42.000000    42.000000    42.000000    43.000000   \n",
       "25%      60.000000    59.000000    60.000000    60.000000    60.000000   \n",
       "50%      66.000000    66.000000    66.000000    66.000000    66.000000   \n",
       "75%      73.000000    72.000000    72.000000    72.000000    72.000000   \n",
       "max      89.000000    89.000000    89.000000    88.000000    89.000000   \n",
       "\n",
       "          UCCM1363  Semester3_GPA  Semester3_CGPA  Semester1_CGPA  \n",
       "count  9993.000000    9993.000000     9993.000000     9993.000000  \n",
       "mean     65.929451       2.878025        2.871670        2.862161  \n",
       "std       8.530929       0.301000        0.162987        0.140411  \n",
       "min      42.000000       1.887500        2.287179        2.080000  \n",
       "25%      60.000000       2.700000        2.761538        2.770909  \n",
       "50%      66.000000       2.887500        2.874359        2.867273  \n",
       "75%      72.000000       3.056250        2.989744        2.960000  \n",
       "max      89.000000       3.700000        3.564103        3.356364  "
      ]
     },
     "execution_count": 8,
     "metadata": {},
     "output_type": "execute_result"
    }
   ],
   "source": [
    "df1.describe()"
   ]
  },
  {
   "cell_type": "code",
   "execution_count": 9,
   "metadata": {
    "colab": {
     "base_uri": "https://localhost:8080/"
    },
    "executionInfo": {
     "elapsed": 2,
     "status": "ok",
     "timestamp": 1629693104004,
     "user": {
      "displayName": "Lim Ming Yuen",
      "photoUrl": "",
      "userId": "14089031834122689521"
     },
     "user_tz": -480
    },
    "id": "7nOIPzb8LdS_",
    "outputId": "ab328d1f-3bad-4906-aee8-72f8809f6629"
   },
   "outputs": [
    {
     "data": {
      "text/plain": [
       "Gender             object\n",
       "State              object\n",
       "MPU3113             int64\n",
       "MPU32143            int64\n",
       "UCCD1013            int64\n",
       "UCCD1024            int64\n",
       "UCCD1133            int64\n",
       "UCCM1363            int64\n",
       "Semester3_GPA     float64\n",
       "Semester3_CGPA    float64\n",
       "Semester1_CGPA    float64\n",
       "dtype: object"
      ]
     },
     "execution_count": 9,
     "metadata": {},
     "output_type": "execute_result"
    }
   ],
   "source": [
    "df1.dtypes"
   ]
  },
  {
   "cell_type": "markdown",
   "metadata": {
    "id": "OVy39IZ4K3yI"
   },
   "source": [
    "#Exploratory Data Analysis"
   ]
  },
  {
   "cell_type": "code",
   "execution_count": 10,
   "metadata": {
    "colab": {
     "base_uri": "https://localhost:8080/",
     "height": 530
    },
    "executionInfo": {
     "elapsed": 704,
     "status": "ok",
     "timestamp": 1629693141673,
     "user": {
      "displayName": "Lim Ming Yuen",
      "photoUrl": "",
      "userId": "14089031834122689521"
     },
     "user_tz": -480
    },
    "id": "RHZmrjc7LAYg",
    "outputId": "be601bdf-af64-423d-c66e-81b858422aee"
   },
   "outputs": [
    {
     "data": {
      "text/plain": [
       "[Text(0.5, 1.0, 'Year 2 Semester 1 CGPA')]"
      ]
     },
     "execution_count": 10,
     "metadata": {},
     "output_type": "execute_result"
    },
    {
     "data": {
      "image/png": "[encoded data removed]",
      "text/plain": [
       "<Figure size 1080x576 with 1 Axes>"
      ]
     },
     "metadata": {
      "needs_background": "light"
     },
     "output_type": "display_data"
    }
   ],
   "source": [
    "plt.figure(figsize=(15,8))\n",
    "sns.boxplot(x='State', y='Semester1_CGPA',data=df1).set(title='Year 2 Semester 1 CGPA')"
   ]
  },
  {
   "cell_type": "code",
   "execution_count": 11,
   "metadata": {
    "executionInfo": {
     "elapsed": 4,
     "status": "ok",
     "timestamp": 1629693141673,
     "user": {
      "displayName": "Lim Ming Yuen",
      "photoUrl": "",
      "userId": "14089031834122689521"
     },
     "user_tz": -480
    },
    "id": "9nntMCClT7Ye"
   },
   "outputs": [],
   "source": [
    "gen =df1[df1['Semester1_CGPA'].between(2.8,3.3)]"
   ]
  },
  {
   "cell_type": "code",
   "execution_count": 12,
   "metadata": {
    "colab": {
     "base_uri": "https://localhost:8080/"
    },
    "executionInfo": {
     "elapsed": 5,
     "status": "ok",
     "timestamp": 1629693141674,
     "user": {
      "displayName": "Lim Ming Yuen",
      "photoUrl": "",
      "userId": "14089031834122689521"
     },
     "user_tz": -480
    },
    "id": "WoDHKwt3XDh8",
    "outputId": "6adffa71-e90b-43a7-83b3-03dabe69c3e6"
   },
   "outputs": [
    {
     "data": {
      "text/plain": [
       "Johor              568\n",
       "Negeri Sembilan    543\n",
       "Terengganu         542\n",
       "Kelantan           540\n",
       "Perlis             538\n",
       "Selangor           534\n",
       "Perak              530\n",
       "Malacca            529\n",
       "Sarawak            527\n",
       "Pahang             515\n",
       "Kedah              509\n",
       "Sabah              488\n",
       "Penang             478\n",
       "Name: State, dtype: int64"
      ]
     },
     "execution_count": 12,
     "metadata": {},
     "output_type": "execute_result"
    }
   ],
   "source": [
    "#Get a count of the number of each state\n",
    "gen['State'].value_counts()"
   ]
  },
  {
   "cell_type": "code",
   "execution_count": 13,
   "metadata": {
    "colab": {
     "base_uri": "https://localhost:8080/",
     "height": 568
    },
    "executionInfo": {
     "elapsed": 536,
     "status": "ok",
     "timestamp": 1629693142206,
     "user": {
      "displayName": "Lim Ming Yuen",
      "photoUrl": "",
      "userId": "14089031834122689521"
     },
     "user_tz": -480
    },
    "id": "UieLdLPAYbYz",
    "outputId": "732e52d3-036b-401c-94b6-149ab54b6201"
   },
   "outputs": [
    {
     "data": {
      "text/plain": [
       "<matplotlib.axes._subplots.AxesSubplot at 0x13172000e48>"
      ]
     },
     "execution_count": 13,
     "metadata": {},
     "output_type": "execute_result"
    },
    {
     "data": {
      "image/png": "[encoded data removed]",
      "text/plain": [
       "<Figure size 1080x576 with 1 Axes>"
      ]
     },
     "metadata": {
      "needs_background": "light"
     },
     "output_type": "display_data"
    }
   ],
   "source": [
    "#Visualize the count of Grade\n",
    "plt.figure(figsize=(15,8))\n",
    "sns.countplot(gen['State'], label='count')"
   ]
  },
  {
   "cell_type": "code",
   "execution_count": 14,
   "metadata": {
    "colab": {
     "base_uri": "https://localhost:8080/"
    },
    "executionInfo": {
     "elapsed": 6,
     "status": "ok",
     "timestamp": 1629693142207,
     "user": {
      "displayName": "Lim Ming Yuen",
      "photoUrl": "",
      "userId": "14089031834122689521"
     },
     "user_tz": -480
    },
    "id": "gNKv01xMY0SK",
    "outputId": "79034d40-f401-4fdc-978c-966b802ff43f"
   },
   "outputs": [
    {
     "data": {
      "text/plain": [
       "Male      3431\n",
       "Female    3410\n",
       "Name: Gender, dtype: int64"
      ]
     },
     "execution_count": 14,
     "metadata": {},
     "output_type": "execute_result"
    }
   ],
   "source": [
    "#Get a count of the number of each Gender\n",
    "gen['Gender'].value_counts()\n"
   ]
  },
  {
   "cell_type": "code",
   "execution_count": 15,
   "metadata": {
    "colab": {
     "base_uri": "https://localhost:8080/",
     "height": 350
    },
    "executionInfo": {
     "elapsed": 719,
     "status": "ok",
     "timestamp": 1629693142922,
     "user": {
      "displayName": "Lim Ming Yuen",
      "photoUrl": "",
      "userId": "14089031834122689521"
     },
     "user_tz": -480
    },
    "id": "kUztauDZY0cp",
    "outputId": "8e8d04f0-5c24-478c-d064-194ba11cb4d8"
   },
   "outputs": [
    {
     "data": {
      "text/plain": [
       "<matplotlib.axes._subplots.AxesSubplot at 0x13172078c48>"
      ]
     },
     "execution_count": 15,
     "metadata": {},
     "output_type": "execute_result"
    },
    {
     "data": {
      "image/png": "[encoded data removed]",
      "text/plain": [
       "<Figure size 432x288 with 1 Axes>"
      ]
     },
     "metadata": {
      "needs_background": "light"
     },
     "output_type": "display_data"
    }
   ],
   "source": [
    "#Visualize the count of Gender\n",
    "sns.countplot(gen['Gender'], label='count')"
   ]
  },
  {
   "cell_type": "markdown",
   "metadata": {
    "id": "WcrqHq4ObHwZ"
   },
   "source": [
    "#Drop the column that does not related"
   ]
  },
  {
   "cell_type": "code",
   "execution_count": 16,
   "metadata": {
    "colab": {
     "base_uri": "https://localhost:8080/"
    },
    "executionInfo": {
     "elapsed": 14,
     "status": "ok",
     "timestamp": 1629693142922,
     "user": {
      "displayName": "Lim Ming Yuen",
      "photoUrl": "",
      "userId": "14089031834122689521"
     },
     "user_tz": -480
    },
    "id": "L9PGvP4xi3fH",
    "outputId": "77314b7f-2a92-4edc-864c-6a3bfd834a2a"
   },
   "outputs": [
    {
     "name": "stderr",
     "output_type": "stream",
     "text": [
      "C:\\Users\\Dell\\anaconda3\\lib\\site-packages\\pandas\\core\\frame.py:3997: SettingWithCopyWarning: \n",
      "A value is trying to be set on a copy of a slice from a DataFrame\n",
      "\n",
      "See the caveats in the documentation: https://pandas.pydata.org/pandas-docs/stable/user_guide/indexing.html#returning-a-view-versus-a-copy\n",
      "  errors=errors,\n"
     ]
    }
   ],
   "source": [
    "df1.drop(['Gender','State'], axis='columns', inplace=True)"
   ]
  },
  {
   "cell_type": "code",
   "execution_count": 17,
   "metadata": {
    "colab": {
     "base_uri": "https://localhost:8080/"
    },
    "executionInfo": {
     "elapsed": 13,
     "status": "ok",
     "timestamp": 1629693142923,
     "user": {
      "displayName": "Lim Ming Yuen",
      "photoUrl": "",
      "userId": "14089031834122689521"
     },
     "user_tz": -480
    },
    "id": "_MAtF_wujcw2",
    "outputId": "8b90f434-88a4-4842-e1bd-d656206557cf"
   },
   "outputs": [
    {
     "data": {
      "text/plain": [
       "(9993, 9)"
      ]
     },
     "execution_count": 17,
     "metadata": {},
     "output_type": "execute_result"
    }
   ],
   "source": [
    "df1.shape"
   ]
  },
  {
   "cell_type": "code",
   "execution_count": 18,
   "metadata": {
    "colab": {
     "base_uri": "https://localhost:8080/",
     "height": 204
    },
    "executionInfo": {
     "elapsed": 12,
     "status": "ok",
     "timestamp": 1629693142923,
     "user": {
      "displayName": "Lim Ming Yuen",
      "photoUrl": "",
      "userId": "14089031834122689521"
     },
     "user_tz": -480
    },
    "id": "Fw7Rr4xujhge",
    "outputId": "1a09abfa-70ae-4296-e4c7-94099fbd8693"
   },
   "outputs": [
    {
     "data": {
      "text/html": [
       "<div>\n",
       "<style scoped>\n",
       "    .dataframe tbody tr th:only-of-type {\n",
       "        vertical-align: middle;\n",
       "    }\n",
       "\n",
       "    .dataframe tbody tr th {\n",
       "        vertical-align: top;\n",
       "    }\n",
       "\n",
       "    .dataframe thead th {\n",
       "        text-align: right;\n",
       "    }\n",
       "</style>\n",
       "<table border=\"1\" class=\"dataframe\">\n",
       "  <thead>\n",
       "    <tr style=\"text-align: right;\">\n",
       "      <th></th>\n",
       "      <th>MPU3113</th>\n",
       "      <th>MPU32143</th>\n",
       "      <th>UCCD1013</th>\n",
       "      <th>UCCD1024</th>\n",
       "      <th>UCCD1133</th>\n",
       "      <th>UCCM1363</th>\n",
       "      <th>Semester3_GPA</th>\n",
       "      <th>Semester3_CGPA</th>\n",
       "      <th>Semester1_CGPA</th>\n",
       "    </tr>\n",
       "  </thead>\n",
       "  <tbody>\n",
       "    <tr>\n",
       "      <th>0</th>\n",
       "      <td>71</td>\n",
       "      <td>48</td>\n",
       "      <td>73</td>\n",
       "      <td>52</td>\n",
       "      <td>62</td>\n",
       "      <td>67</td>\n",
       "      <td>2.80625</td>\n",
       "      <td>2.820513</td>\n",
       "      <td>2.894545</td>\n",
       "    </tr>\n",
       "    <tr>\n",
       "      <th>1</th>\n",
       "      <td>68</td>\n",
       "      <td>54</td>\n",
       "      <td>71</td>\n",
       "      <td>76</td>\n",
       "      <td>49</td>\n",
       "      <td>65</td>\n",
       "      <td>2.30000</td>\n",
       "      <td>2.951282</td>\n",
       "      <td>2.969091</td>\n",
       "    </tr>\n",
       "    <tr>\n",
       "      <th>2</th>\n",
       "      <td>62</td>\n",
       "      <td>66</td>\n",
       "      <td>72</td>\n",
       "      <td>54</td>\n",
       "      <td>71</td>\n",
       "      <td>71</td>\n",
       "      <td>2.86250</td>\n",
       "      <td>3.007692</td>\n",
       "      <td>3.005455</td>\n",
       "    </tr>\n",
       "    <tr>\n",
       "      <th>3</th>\n",
       "      <td>78</td>\n",
       "      <td>81</td>\n",
       "      <td>66</td>\n",
       "      <td>82</td>\n",
       "      <td>66</td>\n",
       "      <td>74</td>\n",
       "      <td>3.36250</td>\n",
       "      <td>2.797436</td>\n",
       "      <td>2.872727</td>\n",
       "    </tr>\n",
       "    <tr>\n",
       "      <th>4</th>\n",
       "      <td>77</td>\n",
       "      <td>61</td>\n",
       "      <td>50</td>\n",
       "      <td>51</td>\n",
       "      <td>78</td>\n",
       "      <td>73</td>\n",
       "      <td>2.67500</td>\n",
       "      <td>2.794872</td>\n",
       "      <td>2.892727</td>\n",
       "    </tr>\n",
       "  </tbody>\n",
       "</table>\n",
       "</div>"
      ],
      "text/plain": [
       "   MPU3113  MPU32143  UCCD1013  UCCD1024  UCCD1133  UCCM1363  Semester3_GPA  \\\n",
       "0       71        48        73        52        62        67        2.80625   \n",
       "1       68        54        71        76        49        65        2.30000   \n",
       "2       62        66        72        54        71        71        2.86250   \n",
       "3       78        81        66        82        66        74        3.36250   \n",
       "4       77        61        50        51        78        73        2.67500   \n",
       "\n",
       "   Semester3_CGPA  Semester1_CGPA  \n",
       "0        2.820513        2.894545  \n",
       "1        2.951282        2.969091  \n",
       "2        3.007692        3.005455  \n",
       "3        2.797436        2.872727  \n",
       "4        2.794872        2.892727  "
      ]
     },
     "execution_count": 18,
     "metadata": {},
     "output_type": "execute_result"
    }
   ],
   "source": [
    "#Print the data after dropping the columns\n",
    "df1.head()"
   ]
  },
  {
   "cell_type": "markdown",
   "metadata": {
    "id": "4qguOdmrZYPS"
   },
   "source": [
    "#Splitting the data"
   ]
  },
  {
   "cell_type": "code",
   "execution_count": 19,
   "metadata": {
    "executionInfo": {
     "elapsed": 11,
     "status": "ok",
     "timestamp": 1629693142923,
     "user": {
      "displayName": "Lim Ming Yuen",
      "photoUrl": "",
      "userId": "14089031834122689521"
     },
     "user_tz": -480
    },
    "id": "-uvnRB_-LoPf"
   },
   "outputs": [],
   "source": [
    "#Split the data set into independent(X) and dependent(Y) data sets\n",
    "y = df1.iloc[:,-1:]\n",
    "X = df1.iloc[:,:-1]"
   ]
  },
  {
   "cell_type": "code",
   "execution_count": 20,
   "metadata": {
    "executionInfo": {
     "elapsed": 293,
     "status": "ok",
     "timestamp": 1629693191124,
     "user": {
      "displayName": "Lim Ming Yuen",
      "photoUrl": "",
      "userId": "14089031834122689521"
     },
     "user_tz": -480
    },
    "id": "HqZ8YRCSUeJc"
   },
   "outputs": [],
   "source": [
    "#Split the data set into 70% training and 30% testing\n",
    "X_train, X_test, y_train, y_test = train_test_split(X, y, train_size=0.75)"
   ]
  },
  {
   "cell_type": "markdown",
   "metadata": {
    "id": "em_XJ16hZr-i"
   },
   "source": [
    "#Feature Scaling"
   ]
  },
  {
   "cell_type": "code",
   "execution_count": 21,
   "metadata": {
    "executionInfo": {
     "elapsed": 285,
     "status": "ok",
     "timestamp": 1629693193074,
     "user": {
      "displayName": "Lim Ming Yuen",
      "photoUrl": "",
      "userId": "14089031834122689521"
     },
     "user_tz": -480
    },
    "id": "WZ5C82sPUaER"
   },
   "outputs": [],
   "source": [
    "scaler = StandardScaler()\n",
    "\n",
    "X = pd.DataFrame(scaler.fit_transform(X), columns=X.columns)"
   ]
  },
  {
   "cell_type": "markdown",
   "metadata": {
    "id": "IvnWIR-McZJP"
   },
   "source": [
    "#Model Training"
   ]
  },
  {
   "cell_type": "code",
   "execution_count": 22,
   "metadata": {
    "colab": {
     "base_uri": "https://localhost:8080/"
    },
    "executionInfo": {
     "elapsed": 280,
     "status": "ok",
     "timestamp": 1629693195233,
     "user": {
      "displayName": "Lim Ming Yuen",
      "photoUrl": "",
      "userId": "14089031834122689521"
     },
     "user_tz": -480
    },
    "id": "k7WzHG5nUg1k",
    "outputId": "13af46d4-1b5e-47d6-a244-a7f69fb20b6b"
   },
   "outputs": [
    {
     "data": {
      "text/plain": [
       "LinearRegression(copy_X=True, fit_intercept=True, n_jobs=None, normalize=False)"
      ]
     },
     "execution_count": 22,
     "metadata": {},
     "output_type": "execute_result"
    }
   ],
   "source": [
    "model = LinearRegression()\n",
    "model.fit(X_train, y_train)"
   ]
  },
  {
   "cell_type": "code",
   "execution_count": 23,
   "metadata": {
    "colab": {
     "base_uri": "https://localhost:8080/"
    },
    "executionInfo": {
     "elapsed": 300,
     "status": "ok",
     "timestamp": 1629693198920,
     "user": {
      "displayName": "Lim Ming Yuen",
      "photoUrl": "",
      "userId": "14089031834122689521"
     },
     "user_tz": -480
    },
    "id": "WyGK3qYDUieM",
    "outputId": "685f1da8-bce3-49b3-eafd-98fd4aafab62"
   },
   "outputs": [
    {
     "name": "stdout",
     "output_type": "stream",
     "text": [
      "Accuracy: 69.77454243902088\n"
     ]
    }
   ],
   "source": [
    "print(\"Accuracy:\" ,model.score(X_test, y_test)*100)"
   ]
  },
  {
   "cell_type": "code",
   "execution_count": 24,
   "metadata": {
    "colab": {
     "base_uri": "https://localhost:8080/"
    },
    "executionInfo": {
     "elapsed": 274,
     "status": "ok",
     "timestamp": 1629693207636,
     "user": {
      "displayName": "Lim Ming Yuen",
      "photoUrl": "",
      "userId": "14089031834122689521"
     },
     "user_tz": -480
    },
    "id": "5ZNWIweGXACo",
    "outputId": "755d32e3-d2c7-481e-f1ae-6434b8c73ea0"
   },
   "outputs": [
    {
     "name": "stdout",
     "output_type": "stream",
     "text": [
      "[[2.81505634]\n",
      " [2.83383576]\n",
      " [2.75600161]\n",
      " ...\n",
      " [2.78781737]\n",
      " [2.63595788]\n",
      " [2.8803449 ]]\n",
      "      Semester1_CGPA\n",
      "2430        2.725455\n",
      "802         2.836364\n",
      "4134        2.709091\n",
      "7772        2.858182\n",
      "1546        2.938182\n",
      "...              ...\n",
      "235         2.743636\n",
      "5860        3.089091\n",
      "1706        2.669091\n",
      "4417        2.574545\n",
      "6700        2.992727\n",
      "\n",
      "[2499 rows x 1 columns]\n"
     ]
    }
   ],
   "source": [
    "prediction = model.predict(X_test)\n",
    "print(prediction)\n",
    "print(y_test)"
   ]
  },
  {
   "cell_type": "code",
   "execution_count": 25,
   "metadata": {
    "executionInfo": {
     "elapsed": 8,
     "status": "ok",
     "timestamp": 1629693142925,
     "user": {
      "displayName": "Lim Ming Yuen",
      "photoUrl": "",
      "userId": "14089031834122689521"
     },
     "user_tz": -480
    },
    "id": "60J_trImoTOk"
   },
   "outputs": [],
   "source": [
    "import pickle \n",
    "pickle_out = open(\"Y2S1.pkl\", mode = \"wb\") \n",
    "pickle.dump(model, pickle_out) \n",
    "pickle_out.close()"
   ]
  },
  {
   "cell_type": "code",
   "execution_count": 25,
   "metadata": {
    "executionInfo": {
     "elapsed": 8,
     "status": "ok",
     "timestamp": 1629693142925,
     "user": {
      "displayName": "Lim Ming Yuen",
      "photoUrl": "",
      "userId": "14089031834122689521"
     },
     "user_tz": -480
    },
    "id": "YuOjcqECc2y_"
   },
   "outputs": [],
   "source": []
  }
 ],
 "metadata": {
  "colab": {
   "authorship_tag": "ABX9TyPto+C/ps1D4LkvzTmDz8Ct",
   "collapsed_sections": [],
   "name": "CGPA_Prediction_Of_Y2S1.ipynb",
   "provenance": []
  },
  "kernelspec": {
   "display_name": "Python 3",
   "language": "python",
   "name": "python3"
  },
  "language_info": {
   "codemirror_mode": {
    "name": "ipython",
    "version": 3
   },
   "file_extension": ".py",
   "mimetype": "text/x-python",
   "name": "python",
   "nbconvert_exporter": "python",
   "pygments_lexer": "ipython3",
   "version": "3.7.6"
  }
 },
 "nbformat": 4,
 "nbformat_minor": 1
}
