{
 "cells": [
  {
   "cell_type": "markdown",
   "metadata": {
    "id": "zSYD_MaDe9Q8"
   },
   "source": [
    "## This is a notebook that use Linear Regression to predict the Cummulative Grade Point\n"
   ]
  },
  {
   "cell_type": "markdown",
   "metadata": {
    "id": "u69ym8rwHR-q"
   },
   "source": [
    "#Import modules\n"
   ]
  },
  {
   "cell_type": "code",
   "execution_count": 1,
   "metadata": {
    "executionInfo": {
     "elapsed": 1785,
     "status": "ok",
     "timestamp": 1629693420254,
     "user": {
      "displayName": "Lim Ming Yuen",
      "photoUrl": "",
      "userId": "14089031834122689521"
     },
     "user_tz": -480
    },
    "id": "GCYHsEvJJuL5"
   },
   "outputs": [],
   "source": [
    "#import libraries\n",
    "import numpy as np\n",
    "import pandas as pd\n",
    "import matplotlib.pyplot as plt\n",
    "import seaborn as sns\n",
    "from sklearn.preprocessing import LabelEncoder\n",
    "from sklearn.preprocessing import StandardScaler\n",
    "from sklearn.model_selection import train_test_split\n",
    "from sklearn.linear_model import LinearRegression"
   ]
  },
  {
   "cell_type": "markdown",
   "metadata": {
    "id": "oXNgA-MOIBUa"
   },
   "source": [
    "#Loading the dataset"
   ]
  },
  {
   "cell_type": "code",
   "execution_count": 2,
   "metadata": {
    "colab": {
     "base_uri": "https://localhost:8080/",
     "height": 72,
     "resources": {
      "http://localhost:8080/nbextensions/google.colab/files.js": {
       "data": "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",
       "headers": [
        [
         "content-type",
         "application/javascript"
        ]
       ],
       "ok": true,
       "status": 200,
       "status_text": ""
      }
     }
    },
    "executionInfo": {
     "elapsed": 18742,
     "status": "ok",
     "timestamp": 1629693440716,
     "user": {
      "displayName": "Lim Ming Yuen",
      "photoUrl": "",
      "userId": "14089031834122689521"
     },
     "user_tz": -480
    },
    "id": "S4f_1uJhJ4Tg",
    "outputId": "e5ae650a-0a28-4b24-a40e-424fba2b9e61"
   },
   "outputs": [],
   "source": [
    "#Load the data\n",
    "#Load the data\n",
    "df = pd.read_excel (r'C:\\Users\\Dell\\Downloads\\Y3S1.xlsx', sheet_name='Sheet1')\n"
   ]
  },
  {
   "cell_type": "code",
   "execution_count": 3,
   "metadata": {
    "colab": {
     "base_uri": "https://localhost:8080/",
     "height": 266
    },
    "executionInfo": {
     "elapsed": 353,
     "status": "ok",
     "timestamp": 1629693446496,
     "user": {
      "displayName": "Lim Ming Yuen",
      "photoUrl": "",
      "userId": "14089031834122689521"
     },
     "user_tz": -480
    },
    "id": "NHge5RuJnd0Z",
    "outputId": "d4a1fb07-5d0a-4de2-81d2-1d2d1047dbc9"
   },
   "outputs": [
    {
     "data": {
      "text/html": [
       "<div>\n",
       "<style scoped>\n",
       "    .dataframe tbody tr th:only-of-type {\n",
       "        vertical-align: middle;\n",
       "    }\n",
       "\n",
       "    .dataframe tbody tr th {\n",
       "        vertical-align: top;\n",
       "    }\n",
       "\n",
       "    .dataframe thead th {\n",
       "        text-align: right;\n",
       "    }\n",
       "</style>\n",
       "<table border=\"1\" class=\"dataframe\">\n",
       "  <thead>\n",
       "    <tr style=\"text-align: right;\">\n",
       "      <th></th>\n",
       "      <th>Gender</th>\n",
       "      <th>State</th>\n",
       "      <th>MPU34012</th>\n",
       "      <th>UCCD2502</th>\n",
       "      <th>UCCD2513</th>\n",
       "      <th>UCCN1213</th>\n",
       "      <th>Semester3_GPA</th>\n",
       "      <th>Semester3_CGPA</th>\n",
       "      <th>Semester1_CGPA</th>\n",
       "    </tr>\n",
       "  </thead>\n",
       "  <tbody>\n",
       "    <tr>\n",
       "      <th>0</th>\n",
       "      <td>Female</td>\n",
       "      <td>Pahang</td>\n",
       "      <td>67</td>\n",
       "      <td>74</td>\n",
       "      <td>64</td>\n",
       "      <td>59</td>\n",
       "      <td>2.7000</td>\n",
       "      <td>2.869841</td>\n",
       "      <td>2.920988</td>\n",
       "    </tr>\n",
       "    <tr>\n",
       "      <th>1</th>\n",
       "      <td>Male</td>\n",
       "      <td>Kedah</td>\n",
       "      <td>67</td>\n",
       "      <td>53</td>\n",
       "      <td>60</td>\n",
       "      <td>68</td>\n",
       "      <td>2.6375</td>\n",
       "      <td>2.926984</td>\n",
       "      <td>2.895062</td>\n",
       "    </tr>\n",
       "    <tr>\n",
       "      <th>2</th>\n",
       "      <td>Male</td>\n",
       "      <td>Malacca</td>\n",
       "      <td>65</td>\n",
       "      <td>61</td>\n",
       "      <td>65</td>\n",
       "      <td>72</td>\n",
       "      <td>3.0375</td>\n",
       "      <td>3.009524</td>\n",
       "      <td>2.992593</td>\n",
       "    </tr>\n",
       "    <tr>\n",
       "      <th>3</th>\n",
       "      <td>Female</td>\n",
       "      <td>Kelantan</td>\n",
       "      <td>69</td>\n",
       "      <td>67</td>\n",
       "      <td>65</td>\n",
       "      <td>74</td>\n",
       "      <td>3.1125</td>\n",
       "      <td>2.903175</td>\n",
       "      <td>2.935802</td>\n",
       "    </tr>\n",
       "    <tr>\n",
       "      <th>4</th>\n",
       "      <td>Male</td>\n",
       "      <td>Perak</td>\n",
       "      <td>77</td>\n",
       "      <td>75</td>\n",
       "      <td>64</td>\n",
       "      <td>50</td>\n",
       "      <td>2.5875</td>\n",
       "      <td>2.853968</td>\n",
       "      <td>2.893827</td>\n",
       "    </tr>\n",
       "    <tr>\n",
       "      <th>5</th>\n",
       "      <td>Male</td>\n",
       "      <td>Johor</td>\n",
       "      <td>64</td>\n",
       "      <td>58</td>\n",
       "      <td>81</td>\n",
       "      <td>53</td>\n",
       "      <td>2.7125</td>\n",
       "      <td>2.723810</td>\n",
       "      <td>2.637037</td>\n",
       "    </tr>\n",
       "    <tr>\n",
       "      <th>6</th>\n",
       "      <td>Female</td>\n",
       "      <td>Negeri Sembilan</td>\n",
       "      <td>63</td>\n",
       "      <td>73</td>\n",
       "      <td>70</td>\n",
       "      <td>65</td>\n",
       "      <td>3.1875</td>\n",
       "      <td>2.869841</td>\n",
       "      <td>2.946914</td>\n",
       "    </tr>\n",
       "  </tbody>\n",
       "</table>\n",
       "</div>"
      ],
      "text/plain": [
       "   Gender            State  MPU34012  UCCD2502  UCCD2513  UCCN1213  \\\n",
       "0  Female           Pahang        67        74        64        59   \n",
       "1    Male            Kedah        67        53        60        68   \n",
       "2    Male          Malacca        65        61        65        72   \n",
       "3  Female         Kelantan        69        67        65        74   \n",
       "4    Male            Perak        77        75        64        50   \n",
       "5    Male            Johor        64        58        81        53   \n",
       "6  Female  Negeri Sembilan        63        73        70        65   \n",
       "\n",
       "   Semester3_GPA  Semester3_CGPA  Semester1_CGPA  \n",
       "0         2.7000        2.869841        2.920988  \n",
       "1         2.6375        2.926984        2.895062  \n",
       "2         3.0375        3.009524        2.992593  \n",
       "3         3.1125        2.903175        2.935802  \n",
       "4         2.5875        2.853968        2.893827  \n",
       "5         2.7125        2.723810        2.637037  \n",
       "6         3.1875        2.869841        2.946914  "
      ]
     },
     "execution_count": 3,
     "metadata": {},
     "output_type": "execute_result"
    }
   ],
   "source": [
    "#Display the first 7 row of data\n",
    "df.head(7)"
   ]
  },
  {
   "cell_type": "code",
   "execution_count": 4,
   "metadata": {
    "colab": {
     "base_uri": "https://localhost:8080/"
    },
    "executionInfo": {
     "elapsed": 2,
     "status": "ok",
     "timestamp": 1629693446934,
     "user": {
      "displayName": "Lim Ming Yuen",
      "photoUrl": "",
      "userId": "14089031834122689521"
     },
     "user_tz": -480
    },
    "id": "l30kZtknKWuw",
    "outputId": "c7d20f80-13f3-4736-c547-516172c835ba"
   },
   "outputs": [
    {
     "data": {
      "text/plain": [
       "(10000, 9)"
      ]
     },
     "execution_count": 4,
     "metadata": {},
     "output_type": "execute_result"
    }
   ],
   "source": [
    "#Count the number of rows and columns in the data set\n",
    "df.shape"
   ]
  },
  {
   "cell_type": "code",
   "execution_count": 5,
   "metadata": {
    "colab": {
     "base_uri": "https://localhost:8080/"
    },
    "executionInfo": {
     "elapsed": 2,
     "status": "ok",
     "timestamp": 1629693447275,
     "user": {
      "displayName": "Lim Ming Yuen",
      "photoUrl": "",
      "userId": "14089031834122689521"
     },
     "user_tz": -480
    },
    "id": "o8wNG6zvLLkg",
    "outputId": "60aa32e2-8205-4cc4-c83c-4cd35e31ac50"
   },
   "outputs": [
    {
     "data": {
      "text/plain": [
       "Gender            0\n",
       "State             0\n",
       "MPU34012          0\n",
       "UCCD2502          0\n",
       "UCCD2513          0\n",
       "UCCN1213          0\n",
       "Semester3_GPA     0\n",
       "Semester3_CGPA    7\n",
       "Semester1_CGPA    7\n",
       "dtype: int64"
      ]
     },
     "execution_count": 5,
     "metadata": {},
     "output_type": "execute_result"
    }
   ],
   "source": [
    "#Find the column that consist null value\n",
    "df.isna().sum()"
   ]
  },
  {
   "cell_type": "code",
   "execution_count": 6,
   "metadata": {
    "executionInfo": {
     "elapsed": 427,
     "status": "ok",
     "timestamp": 1629693448236,
     "user": {
      "displayName": "Lim Ming Yuen",
      "photoUrl": "",
      "userId": "14089031834122689521"
     },
     "user_tz": -480
    },
    "id": "ogfQMWCkWMmk"
   },
   "outputs": [],
   "source": [
    "#Remove the row that consist of null value\n",
    "df1=df.dropna()"
   ]
  },
  {
   "cell_type": "code",
   "execution_count": 7,
   "metadata": {
    "colab": {
     "base_uri": "https://localhost:8080/"
    },
    "executionInfo": {
     "elapsed": 2,
     "status": "ok",
     "timestamp": 1629693448236,
     "user": {
      "displayName": "Lim Ming Yuen",
      "photoUrl": "",
      "userId": "14089031834122689521"
     },
     "user_tz": -480
    },
    "id": "WiogvslYWjjM",
    "outputId": "0f980889-146e-4d9e-859b-379b186b0e68"
   },
   "outputs": [
    {
     "data": {
      "text/plain": [
       "Gender            0\n",
       "State             0\n",
       "MPU34012          0\n",
       "UCCD2502          0\n",
       "UCCD2513          0\n",
       "UCCN1213          0\n",
       "Semester3_GPA     0\n",
       "Semester3_CGPA    0\n",
       "Semester1_CGPA    0\n",
       "dtype: int64"
      ]
     },
     "execution_count": 7,
     "metadata": {},
     "output_type": "execute_result"
    }
   ],
   "source": [
    "#Check the if there still any null value\n",
    "df1.isna().sum()"
   ]
  },
  {
   "cell_type": "code",
   "execution_count": 8,
   "metadata": {
    "colab": {
     "base_uri": "https://localhost:8080/",
     "height": 297
    },
    "executionInfo": {
     "elapsed": 4,
     "status": "ok",
     "timestamp": 1629693448648,
     "user": {
      "displayName": "Lim Ming Yuen",
      "photoUrl": "",
      "userId": "14089031834122689521"
     },
     "user_tz": -480
    },
    "id": "Y5rlAROMLXmH",
    "outputId": "b8266244-6b4a-44cc-ac51-9d16e2bf03b1"
   },
   "outputs": [
    {
     "data": {
      "text/html": [
       "<div>\n",
       "<style scoped>\n",
       "    .dataframe tbody tr th:only-of-type {\n",
       "        vertical-align: middle;\n",
       "    }\n",
       "\n",
       "    .dataframe tbody tr th {\n",
       "        vertical-align: top;\n",
       "    }\n",
       "\n",
       "    .dataframe thead th {\n",
       "        text-align: right;\n",
       "    }\n",
       "</style>\n",
       "<table border=\"1\" class=\"dataframe\">\n",
       "  <thead>\n",
       "    <tr style=\"text-align: right;\">\n",
       "      <th></th>\n",
       "      <th>MPU34012</th>\n",
       "      <th>UCCD2502</th>\n",
       "      <th>UCCD2513</th>\n",
       "      <th>UCCN1213</th>\n",
       "      <th>Semester3_GPA</th>\n",
       "      <th>Semester3_CGPA</th>\n",
       "      <th>Semester1_CGPA</th>\n",
       "    </tr>\n",
       "  </thead>\n",
       "  <tbody>\n",
       "    <tr>\n",
       "      <th>count</th>\n",
       "      <td>9993.000000</td>\n",
       "      <td>9993.000000</td>\n",
       "      <td>9993.000000</td>\n",
       "      <td>9993.000000</td>\n",
       "      <td>9993.000000</td>\n",
       "      <td>9993.000000</td>\n",
       "      <td>9993.000000</td>\n",
       "    </tr>\n",
       "    <tr>\n",
       "      <th>mean</th>\n",
       "      <td>68.084059</td>\n",
       "      <td>66.147003</td>\n",
       "      <td>65.969679</td>\n",
       "      <td>66.037927</td>\n",
       "      <td>2.896104</td>\n",
       "      <td>2.880231</td>\n",
       "      <td>2.872690</td>\n",
       "    </tr>\n",
       "    <tr>\n",
       "      <th>std</th>\n",
       "      <td>8.668405</td>\n",
       "      <td>8.411998</td>\n",
       "      <td>8.457967</td>\n",
       "      <td>8.441200</td>\n",
       "      <td>0.311542</td>\n",
       "      <td>0.119555</td>\n",
       "      <td>0.107267</td>\n",
       "    </tr>\n",
       "    <tr>\n",
       "      <th>min</th>\n",
       "      <td>43.000000</td>\n",
       "      <td>41.000000</td>\n",
       "      <td>43.000000</td>\n",
       "      <td>43.000000</td>\n",
       "      <td>2.000000</td>\n",
       "      <td>2.361905</td>\n",
       "      <td>2.359259</td>\n",
       "    </tr>\n",
       "    <tr>\n",
       "      <th>25%</th>\n",
       "      <td>62.000000</td>\n",
       "      <td>60.000000</td>\n",
       "      <td>60.000000</td>\n",
       "      <td>60.000000</td>\n",
       "      <td>2.700000</td>\n",
       "      <td>2.800000</td>\n",
       "      <td>2.802469</td>\n",
       "    </tr>\n",
       "    <tr>\n",
       "      <th>50%</th>\n",
       "      <td>68.000000</td>\n",
       "      <td>66.000000</td>\n",
       "      <td>66.000000</td>\n",
       "      <td>66.000000</td>\n",
       "      <td>2.925000</td>\n",
       "      <td>2.882540</td>\n",
       "      <td>2.875309</td>\n",
       "    </tr>\n",
       "    <tr>\n",
       "      <th>75%</th>\n",
       "      <td>74.000000</td>\n",
       "      <td>72.000000</td>\n",
       "      <td>72.000000</td>\n",
       "      <td>72.000000</td>\n",
       "      <td>3.112500</td>\n",
       "      <td>2.963492</td>\n",
       "      <td>2.946914</td>\n",
       "    </tr>\n",
       "    <tr>\n",
       "      <th>max</th>\n",
       "      <td>94.000000</td>\n",
       "      <td>89.000000</td>\n",
       "      <td>89.000000</td>\n",
       "      <td>90.000000</td>\n",
       "      <td>3.700000</td>\n",
       "      <td>3.301587</td>\n",
       "      <td>3.233333</td>\n",
       "    </tr>\n",
       "  </tbody>\n",
       "</table>\n",
       "</div>"
      ],
      "text/plain": [
       "          MPU34012     UCCD2502     UCCD2513     UCCN1213  Semester3_GPA  \\\n",
       "count  9993.000000  9993.000000  9993.000000  9993.000000    9993.000000   \n",
       "mean     68.084059    66.147003    65.969679    66.037927       2.896104   \n",
       "std       8.668405     8.411998     8.457967     8.441200       0.311542   \n",
       "min      43.000000    41.000000    43.000000    43.000000       2.000000   \n",
       "25%      62.000000    60.000000    60.000000    60.000000       2.700000   \n",
       "50%      68.000000    66.000000    66.000000    66.000000       2.925000   \n",
       "75%      74.000000    72.000000    72.000000    72.000000       3.112500   \n",
       "max      94.000000    89.000000    89.000000    90.000000       3.700000   \n",
       "\n",
       "       Semester3_CGPA  Semester1_CGPA  \n",
       "count     9993.000000     9993.000000  \n",
       "mean         2.880231        2.872690  \n",
       "std          0.119555        0.107267  \n",
       "min          2.361905        2.359259  \n",
       "25%          2.800000        2.802469  \n",
       "50%          2.882540        2.875309  \n",
       "75%          2.963492        2.946914  \n",
       "max          3.301587        3.233333  "
      ]
     },
     "execution_count": 8,
     "metadata": {},
     "output_type": "execute_result"
    }
   ],
   "source": [
    "df1.describe()"
   ]
  },
  {
   "cell_type": "code",
   "execution_count": 9,
   "metadata": {
    "colab": {
     "base_uri": "https://localhost:8080/"
    },
    "executionInfo": {
     "elapsed": 3,
     "status": "ok",
     "timestamp": 1629693449635,
     "user": {
      "displayName": "Lim Ming Yuen",
      "photoUrl": "",
      "userId": "14089031834122689521"
     },
     "user_tz": -480
    },
    "id": "7nOIPzb8LdS_",
    "outputId": "3a61c188-afb4-4ac3-f6dc-1015e1dc0437"
   },
   "outputs": [
    {
     "data": {
      "text/plain": [
       "Gender             object\n",
       "State              object\n",
       "MPU34012            int64\n",
       "UCCD2502            int64\n",
       "UCCD2513            int64\n",
       "UCCN1213            int64\n",
       "Semester3_GPA     float64\n",
       "Semester3_CGPA    float64\n",
       "Semester1_CGPA    float64\n",
       "dtype: object"
      ]
     },
     "execution_count": 9,
     "metadata": {},
     "output_type": "execute_result"
    }
   ],
   "source": [
    "df1.dtypes"
   ]
  },
  {
   "cell_type": "markdown",
   "metadata": {
    "id": "OVy39IZ4K3yI"
   },
   "source": [
    "#Exploratory Data Analysis"
   ]
  },
  {
   "cell_type": "code",
   "execution_count": 10,
   "metadata": {
    "colab": {
     "base_uri": "https://localhost:8080/",
     "height": 530
    },
    "executionInfo": {
     "elapsed": 697,
     "status": "ok",
     "timestamp": 1629693495440,
     "user": {
      "displayName": "Lim Ming Yuen",
      "photoUrl": "",
      "userId": "14089031834122689521"
     },
     "user_tz": -480
    },
    "id": "RHZmrjc7LAYg",
    "outputId": "49ebb40d-cd4b-4316-85aa-20db2632bbb2"
   },
   "outputs": [
    {
     "data": {
      "text/plain": [
       "[Text(0.5, 1.0, 'Year 3 Semester 1 CGPA')]"
      ]
     },
     "execution_count": 10,
     "metadata": {},
     "output_type": "execute_result"
    },
    {
     "data": {
      "image/png": "[encoded data removed]",
      "text/plain": [
       "<Figure size 1080x576 with 1 Axes>"
      ]
     },
     "metadata": {
      "needs_background": "light"
     },
     "output_type": "display_data"
    }
   ],
   "source": [
    "plt.figure(figsize=(15,8))\n",
    "sns.boxplot(x='State', y='Semester1_CGPA',data=df1).set(title='Year 3 Semester 1 CGPA')"
   ]
  },
  {
   "cell_type": "code",
   "execution_count": 11,
   "metadata": {
    "executionInfo": {
     "elapsed": 5,
     "status": "ok",
     "timestamp": 1629693495441,
     "user": {
      "displayName": "Lim Ming Yuen",
      "photoUrl": "",
      "userId": "14089031834122689521"
     },
     "user_tz": -480
    },
    "id": "9nntMCClT7Ye"
   },
   "outputs": [],
   "source": [
    "gen =df1[df1['Semester1_CGPA'].between(2.8,3.3)]"
   ]
  },
  {
   "cell_type": "code",
   "execution_count": 12,
   "metadata": {
    "colab": {
     "base_uri": "https://localhost:8080/"
    },
    "executionInfo": {
     "elapsed": 7,
     "status": "ok",
     "timestamp": 1629693495443,
     "user": {
      "displayName": "Lim Ming Yuen",
      "photoUrl": "",
      "userId": "14089031834122689521"
     },
     "user_tz": -480
    },
    "id": "WoDHKwt3XDh8",
    "outputId": "9f54fb61-853a-45df-e63e-6955fc355590"
   },
   "outputs": [
    {
     "data": {
      "text/plain": [
       "Johor              619\n",
       "Malacca            614\n",
       "Negeri Sembilan    608\n",
       "Kelantan           598\n",
       "Terengganu         597\n",
       "Perlis             595\n",
       "Selangor           595\n",
       "Sarawak            576\n",
       "Pahang             569\n",
       "Perak              562\n",
       "Kedah              561\n",
       "Sabah              558\n",
       "Penang             518\n",
       "Name: State, dtype: int64"
      ]
     },
     "execution_count": 12,
     "metadata": {},
     "output_type": "execute_result"
    }
   ],
   "source": [
    "#Get a count of the number of each state\n",
    "gen['State'].value_counts()"
   ]
  },
  {
   "cell_type": "code",
   "execution_count": 13,
   "metadata": {
    "colab": {
     "base_uri": "https://localhost:8080/",
     "height": 568
    },
    "executionInfo": {
     "elapsed": 402,
     "status": "ok",
     "timestamp": 1629693495840,
     "user": {
      "displayName": "Lim Ming Yuen",
      "photoUrl": "",
      "userId": "14089031834122689521"
     },
     "user_tz": -480
    },
    "id": "UieLdLPAYbYz",
    "outputId": "8b15d2f9-88f4-44d5-efeb-a9d65c3a1a8f"
   },
   "outputs": [
    {
     "data": {
      "text/plain": [
       "<matplotlib.axes._subplots.AxesSubplot at 0x1fdcf4ab408>"
      ]
     },
     "execution_count": 13,
     "metadata": {},
     "output_type": "execute_result"
    },
    {
     "data": {
      "image/png": "[encoded data removed]",
      "text/plain": [
       "<Figure size 1080x576 with 1 Axes>"
      ]
     },
     "metadata": {
      "needs_background": "light"
     },
     "output_type": "display_data"
    }
   ],
   "source": [
    "#Visualize the count of Grade\n",
    "plt.figure(figsize=(15,8))\n",
    "sns.countplot(gen['State'], label='count')"
   ]
  },
  {
   "cell_type": "code",
   "execution_count": 14,
   "metadata": {
    "colab": {
     "base_uri": "https://localhost:8080/"
    },
    "executionInfo": {
     "elapsed": 5,
     "status": "ok",
     "timestamp": 1629693495841,
     "user": {
      "displayName": "Lim Ming Yuen",
      "photoUrl": "",
      "userId": "14089031834122689521"
     },
     "user_tz": -480
    },
    "id": "gNKv01xMY0SK",
    "outputId": "c6c9bd6e-2197-496c-9eae-b6b4316e9d42"
   },
   "outputs": [
    {
     "data": {
      "text/plain": [
       "Female    3797\n",
       "Male      3773\n",
       "Name: Gender, dtype: int64"
      ]
     },
     "execution_count": 14,
     "metadata": {},
     "output_type": "execute_result"
    }
   ],
   "source": [
    "#Get a count of the number of each Gender\n",
    "gen['Gender'].value_counts()\n"
   ]
  },
  {
   "cell_type": "code",
   "execution_count": 15,
   "metadata": {
    "colab": {
     "base_uri": "https://localhost:8080/",
     "height": 350
    },
    "executionInfo": {
     "elapsed": 368,
     "status": "ok",
     "timestamp": 1629693496205,
     "user": {
      "displayName": "Lim Ming Yuen",
      "photoUrl": "",
      "userId": "14089031834122689521"
     },
     "user_tz": -480
    },
    "id": "kUztauDZY0cp",
    "outputId": "7c31399b-44d1-43de-ee71-2f41a632864e"
   },
   "outputs": [
    {
     "data": {
      "text/plain": [
       "<matplotlib.axes._subplots.AxesSubplot at 0x1fdcf6d7388>"
      ]
     },
     "execution_count": 15,
     "metadata": {},
     "output_type": "execute_result"
    },
    {
     "data": {
      "image/png": "[encoded data removed]",
      "text/plain": [
       "<Figure size 432x288 with 1 Axes>"
      ]
     },
     "metadata": {
      "needs_background": "light"
     },
     "output_type": "display_data"
    }
   ],
   "source": [
    "#Visualize the count of Gender\n",
    "sns.countplot(gen['Gender'], label='count')"
   ]
  },
  {
   "cell_type": "markdown",
   "metadata": {
    "id": "WcrqHq4ObHwZ"
   },
   "source": [
    "#Drop the column that does not related"
   ]
  },
  {
   "cell_type": "code",
   "execution_count": 16,
   "metadata": {
    "colab": {
     "base_uri": "https://localhost:8080/"
    },
    "executionInfo": {
     "elapsed": 14,
     "status": "ok",
     "timestamp": 1629693496206,
     "user": {
      "displayName": "Lim Ming Yuen",
      "photoUrl": "",
      "userId": "14089031834122689521"
     },
     "user_tz": -480
    },
    "id": "L9PGvP4xi3fH",
    "outputId": "ef465e90-4348-434b-b27c-c4c323f8d76a"
   },
   "outputs": [
    {
     "name": "stderr",
     "output_type": "stream",
     "text": [
      "C:\\Users\\Dell\\anaconda3\\lib\\site-packages\\pandas\\core\\frame.py:3997: SettingWithCopyWarning: \n",
      "A value is trying to be set on a copy of a slice from a DataFrame\n",
      "\n",
      "See the caveats in the documentation: https://pandas.pydata.org/pandas-docs/stable/user_guide/indexing.html#returning-a-view-versus-a-copy\n",
      "  errors=errors,\n"
     ]
    }
   ],
   "source": [
    "df1.drop(['Gender','State'], axis='columns', inplace=True)"
   ]
  },
  {
   "cell_type": "code",
   "execution_count": 17,
   "metadata": {
    "colab": {
     "base_uri": "https://localhost:8080/"
    },
    "executionInfo": {
     "elapsed": 12,
     "status": "ok",
     "timestamp": 1629693496206,
     "user": {
      "displayName": "Lim Ming Yuen",
      "photoUrl": "",
      "userId": "14089031834122689521"
     },
     "user_tz": -480
    },
    "id": "_MAtF_wujcw2",
    "outputId": "6e3a5135-653f-4181-ac79-053767fbb54c"
   },
   "outputs": [
    {
     "data": {
      "text/plain": [
       "(9993, 7)"
      ]
     },
     "execution_count": 17,
     "metadata": {},
     "output_type": "execute_result"
    }
   ],
   "source": [
    "df1.shape"
   ]
  },
  {
   "cell_type": "code",
   "execution_count": 18,
   "metadata": {
    "colab": {
     "base_uri": "https://localhost:8080/",
     "height": 204
    },
    "executionInfo": {
     "elapsed": 11,
     "status": "ok",
     "timestamp": 1629693496206,
     "user": {
      "displayName": "Lim Ming Yuen",
      "photoUrl": "",
      "userId": "14089031834122689521"
     },
     "user_tz": -480
    },
    "id": "Fw7Rr4xujhge",
    "outputId": "0c3bc95e-f580-4ae4-d5f5-92c1b6455bd8"
   },
   "outputs": [
    {
     "data": {
      "text/html": [
       "<div>\n",
       "<style scoped>\n",
       "    .dataframe tbody tr th:only-of-type {\n",
       "        vertical-align: middle;\n",
       "    }\n",
       "\n",
       "    .dataframe tbody tr th {\n",
       "        vertical-align: top;\n",
       "    }\n",
       "\n",
       "    .dataframe thead th {\n",
       "        text-align: right;\n",
       "    }\n",
       "</style>\n",
       "<table border=\"1\" class=\"dataframe\">\n",
       "  <thead>\n",
       "    <tr style=\"text-align: right;\">\n",
       "      <th></th>\n",
       "      <th>MPU34012</th>\n",
       "      <th>UCCD2502</th>\n",
       "      <th>UCCD2513</th>\n",
       "      <th>UCCN1213</th>\n",
       "      <th>Semester3_GPA</th>\n",
       "      <th>Semester3_CGPA</th>\n",
       "      <th>Semester1_CGPA</th>\n",
       "    </tr>\n",
       "  </thead>\n",
       "  <tbody>\n",
       "    <tr>\n",
       "      <th>0</th>\n",
       "      <td>67</td>\n",
       "      <td>74</td>\n",
       "      <td>64</td>\n",
       "      <td>59</td>\n",
       "      <td>2.7000</td>\n",
       "      <td>2.869841</td>\n",
       "      <td>2.920988</td>\n",
       "    </tr>\n",
       "    <tr>\n",
       "      <th>1</th>\n",
       "      <td>67</td>\n",
       "      <td>53</td>\n",
       "      <td>60</td>\n",
       "      <td>68</td>\n",
       "      <td>2.6375</td>\n",
       "      <td>2.926984</td>\n",
       "      <td>2.895062</td>\n",
       "    </tr>\n",
       "    <tr>\n",
       "      <th>2</th>\n",
       "      <td>65</td>\n",
       "      <td>61</td>\n",
       "      <td>65</td>\n",
       "      <td>72</td>\n",
       "      <td>3.0375</td>\n",
       "      <td>3.009524</td>\n",
       "      <td>2.992593</td>\n",
       "    </tr>\n",
       "    <tr>\n",
       "      <th>3</th>\n",
       "      <td>69</td>\n",
       "      <td>67</td>\n",
       "      <td>65</td>\n",
       "      <td>74</td>\n",
       "      <td>3.1125</td>\n",
       "      <td>2.903175</td>\n",
       "      <td>2.935802</td>\n",
       "    </tr>\n",
       "    <tr>\n",
       "      <th>4</th>\n",
       "      <td>77</td>\n",
       "      <td>75</td>\n",
       "      <td>64</td>\n",
       "      <td>50</td>\n",
       "      <td>2.5875</td>\n",
       "      <td>2.853968</td>\n",
       "      <td>2.893827</td>\n",
       "    </tr>\n",
       "  </tbody>\n",
       "</table>\n",
       "</div>"
      ],
      "text/plain": [
       "   MPU34012  UCCD2502  UCCD2513  UCCN1213  Semester3_GPA  Semester3_CGPA  \\\n",
       "0        67        74        64        59         2.7000        2.869841   \n",
       "1        67        53        60        68         2.6375        2.926984   \n",
       "2        65        61        65        72         3.0375        3.009524   \n",
       "3        69        67        65        74         3.1125        2.903175   \n",
       "4        77        75        64        50         2.5875        2.853968   \n",
       "\n",
       "   Semester1_CGPA  \n",
       "0        2.920988  \n",
       "1        2.895062  \n",
       "2        2.992593  \n",
       "3        2.935802  \n",
       "4        2.893827  "
      ]
     },
     "execution_count": 18,
     "metadata": {},
     "output_type": "execute_result"
    }
   ],
   "source": [
    "#Print the data after dropping the columns\n",
    "df1.head()"
   ]
  },
  {
   "cell_type": "markdown",
   "metadata": {
    "id": "4qguOdmrZYPS"
   },
   "source": [
    "#Splitting the data"
   ]
  },
  {
   "cell_type": "code",
   "execution_count": 19,
   "metadata": {
    "executionInfo": {
     "elapsed": 10,
     "status": "ok",
     "timestamp": 1629693496206,
     "user": {
      "displayName": "Lim Ming Yuen",
      "photoUrl": "",
      "userId": "14089031834122689521"
     },
     "user_tz": -480
    },
    "id": "-uvnRB_-LoPf"
   },
   "outputs": [],
   "source": [
    "#Split the data set into independent(X) and dependent(Y) data sets\n",
    "y = df1.iloc[:,-1:]\n",
    "X = df1.iloc[:,:-1]"
   ]
  },
  {
   "cell_type": "code",
   "execution_count": 20,
   "metadata": {
    "executionInfo": {
     "elapsed": 11,
     "status": "ok",
     "timestamp": 1629693496207,
     "user": {
      "displayName": "Lim Ming Yuen",
      "photoUrl": "",
      "userId": "14089031834122689521"
     },
     "user_tz": -480
    },
    "id": "HqZ8YRCSUeJc"
   },
   "outputs": [],
   "source": [
    "#Split the data set into 70% training and 30% testing\n",
    "X_train, X_test, y_train, y_test = train_test_split(X, y, train_size=0.7)"
   ]
  },
  {
   "cell_type": "markdown",
   "metadata": {
    "id": "em_XJ16hZr-i"
   },
   "source": [
    "#Feature Scaling"
   ]
  },
  {
   "cell_type": "code",
   "execution_count": 21,
   "metadata": {
    "executionInfo": {
     "elapsed": 10,
     "status": "ok",
     "timestamp": 1629693496207,
     "user": {
      "displayName": "Lim Ming Yuen",
      "photoUrl": "",
      "userId": "14089031834122689521"
     },
     "user_tz": -480
    },
    "id": "WZ5C82sPUaER"
   },
   "outputs": [],
   "source": [
    "scaler = StandardScaler()\n",
    "\n",
    "X = pd.DataFrame(scaler.fit_transform(X), columns=X.columns)"
   ]
  },
  {
   "cell_type": "markdown",
   "metadata": {
    "id": "IvnWIR-McZJP"
   },
   "source": [
    "#Model Training"
   ]
  },
  {
   "cell_type": "code",
   "execution_count": 22,
   "metadata": {
    "colab": {
     "base_uri": "https://localhost:8080/"
    },
    "executionInfo": {
     "elapsed": 10,
     "status": "ok",
     "timestamp": 1629693496207,
     "user": {
      "displayName": "Lim Ming Yuen",
      "photoUrl": "",
      "userId": "14089031834122689521"
     },
     "user_tz": -480
    },
    "id": "k7WzHG5nUg1k",
    "outputId": "ede6193f-4722-499d-946b-2ed0e7fd867b"
   },
   "outputs": [
    {
     "data": {
      "text/plain": [
       "LinearRegression(copy_X=True, fit_intercept=True, n_jobs=None, normalize=False)"
      ]
     },
     "execution_count": 22,
     "metadata": {},
     "output_type": "execute_result"
    }
   ],
   "source": [
    "model = LinearRegression()\n",
    "model.fit(X_train, y_train)"
   ]
  },
  {
   "cell_type": "code",
   "execution_count": 23,
   "metadata": {
    "colab": {
     "base_uri": "https://localhost:8080/"
    },
    "executionInfo": {
     "elapsed": 10,
     "status": "ok",
     "timestamp": 1629693496208,
     "user": {
      "displayName": "Lim Ming Yuen",
      "photoUrl": "",
      "userId": "14089031834122689521"
     },
     "user_tz": -480
    },
    "id": "WyGK3qYDUieM",
    "outputId": "dd9034ba-eef6-46ec-ee45-1002ae5110b8"
   },
   "outputs": [
    {
     "name": "stdout",
     "output_type": "stream",
     "text": [
      "Accuracy: 73.1197590571004\n"
     ]
    }
   ],
   "source": [
    "print(\"Accuracy:\" ,model.score(X_test, y_test)*100)"
   ]
  },
  {
   "cell_type": "code",
   "execution_count": 24,
   "metadata": {
    "colab": {
     "base_uri": "https://localhost:8080/"
    },
    "executionInfo": {
     "elapsed": 9,
     "status": "ok",
     "timestamp": 1629693496208,
     "user": {
      "displayName": "Lim Ming Yuen",
      "photoUrl": "",
      "userId": "14089031834122689521"
     },
     "user_tz": -480
    },
    "id": "5ZNWIweGXACo",
    "outputId": "e6a4b2cf-6f62-4a5c-f3b7-25046c32006d"
   },
   "outputs": [
    {
     "name": "stdout",
     "output_type": "stream",
     "text": [
      "[[2.9463207 ]\n",
      " [2.91562766]\n",
      " [2.93830245]\n",
      " ...\n",
      " [2.99786756]\n",
      " [2.68447667]\n",
      " [2.96037715]]\n",
      "      Semester1_CGPA\n",
      "6517        2.995062\n",
      "7387        2.859259\n",
      "545         2.981481\n",
      "505         3.015584\n",
      "3248        2.906173\n",
      "...              ...\n",
      "3727        2.800000\n",
      "6612        2.848148\n",
      "1449        3.016049\n",
      "2749        2.739506\n",
      "1351        2.990123\n",
      "\n",
      "[2998 rows x 1 columns]\n"
     ]
    }
   ],
   "source": [
    "prediction = model.predict(X_test)\n",
    "print(prediction)\n",
    "print(y_test)"
   ]
  },
  {
   "cell_type": "code",
   "execution_count": 26,
   "metadata": {
    "executionInfo": {
     "elapsed": 9,
     "status": "ok",
     "timestamp": 1629693496209,
     "user": {
      "displayName": "Lim Ming Yuen",
      "photoUrl": "",
      "userId": "14089031834122689521"
     },
     "user_tz": -480
    },
    "id": "60J_trImoTOk"
   },
   "outputs": [],
   "source": [
    "import pickle \n",
    "pickle_out = open(\"Y3S1.pkl\", mode = \"wb\") \n",
    "pickle.dump(model, pickle_out) \n",
    "pickle_out.close()"
   ]
  },
  {
   "cell_type": "code",
   "execution_count": 25,
   "metadata": {
    "executionInfo": {
     "elapsed": 9,
     "status": "ok",
     "timestamp": 1629693496209,
     "user": {
      "displayName": "Lim Ming Yuen",
      "photoUrl": "",
      "userId": "14089031834122689521"
     },
     "user_tz": -480
    },
    "id": "YuOjcqECc2y_"
   },
   "outputs": [],
   "source": []
  }
 ],
 "metadata": {
  "colab": {
   "authorship_tag": "ABX9TyMcLP25KliE+dmFqLXbGJgk",
   "collapsed_sections": [],
   "name": "CGPA_Prediction_Of_Y3S1.ipynb",
   "provenance": []
  },
  "kernelspec": {
   "display_name": "Python 3",
   "language": "python",
   "name": "python3"
  },
  "language_info": {
   "codemirror_mode": {
    "name": "ipython",
    "version": 3
   },
   "file_extension": ".py",
   "mimetype": "text/x-python",
   "name": "python",
   "nbconvert_exporter": "python",
   "pygments_lexer": "ipython3",
   "version": "3.7.6"
  }
 },
 "nbformat": 4,
 "nbformat_minor": 1
}
